{
 "cells": [
  {
   "attachments": {},
   "cell_type": "markdown",
   "metadata": {},
   "source": [
    "## Classes and Interfaces\n",
    "### Item 37: Compose Classes Instead of Nesting Many Levels of Built-in Types\n",
    "- Avoid making dictionaries with values that are dictionaries, long tuples, or complex nesting of other built-in types.\n",
    "- Use `namedtuple` for lightweight, immutable data containers before you need the flexibility of a full class.\n",
    "- Move your bookkeeping code to using multiple classes when your internal state dictionaries get complicated."
   ]
  }
 ],
 "metadata": {
  "language_info": {
   "name": "python"
  },
  "orig_nbformat": 4
 },
 "nbformat": 4,
 "nbformat_minor": 2
}
