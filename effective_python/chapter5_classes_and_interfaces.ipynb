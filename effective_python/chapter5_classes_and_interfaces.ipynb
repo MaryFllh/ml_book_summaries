{
 "cells": [
  {
   "attachments": {},
   "cell_type": "markdown",
   "metadata": {},
   "source": [
    "## Classes and Interfaces\n",
    "### Item 37: Compose Classes Instead of Nesting Many Levels of Built-in Types\n",
    "- Avoid making dictionaries with values that are dictionaries, long tuples, or complex nesting of other built-in types.\n",
    "- Use `namedtuple` for lightweight, immutable data containers before you need the flexibility of a full class.\n",
    "- Move your bookkeeping code to using multiple classes when your internal state dictionaries get complicated.\n",
    "#### Example\n",
    "We want to record the grades of a set of students whose names aren't known in advance. A class can hold the names in a dictionary instead of using a predefined attribute for each student."
   ]
  },
  {
   "cell_type": "code",
   "execution_count": 2,
   "metadata": {},
   "outputs": [
    {
     "name": "stdout",
     "output_type": "stream",
     "text": [
      "90.0\n"
     ]
    }
   ],
   "source": [
    "class SimpleGradebook:\n",
    "    def __init__(self):\n",
    "        self._grades = {}\n",
    "    \n",
    "    def add_student(self, name):\n",
    "        self._grades[name] = []\n",
    "    \n",
    "    def report_grade(self, name, score):\n",
    "        self._grades[name].append(score)\n",
    "    \n",
    "    def average_grade(self, name):\n",
    "        grades = self._grades[name]\n",
    "        return sum(grades) / len(grades)\n",
    "    \n",
    "book = SimpleGradebook()\n",
    "book.add_student(\"Sarah Brook\")\n",
    "book.report_grade(\"Sarah Brook\", 90)\n",
    "book.report_grade(\"Sarah Brook\", 85)\n",
    "book.report_grade(\"Sarah Brook\", 95)\n",
    "print(book.average_grade(\"Sarah Brook\"))\n"
   ]
  },
  {
   "attachments": {},
   "cell_type": "markdown",
   "metadata": {},
   "source": [
    "- Dictionaries and their related built-in types are so easy to use that they have the risk of overextending them to write brittle code. \n",
    "- If we want to extend the `SimpleGradebook` class to keep a list of grades by subject, not just overall. This can be done by changing the `_grades` dictionary to hold yet another dictionary that maps the subject name to the grades. \n",
    "- The inner dictionary can be a `defaultdict` instance to handle missing subjects."
   ]
  },
  {
   "cell_type": "code",
   "execution_count": 3,
   "metadata": {},
   "outputs": [],
   "source": [
    "from collections import defaultdict\n",
    "\n",
    "class BySubjectGradebook:\n",
    "    def __init__(self):\n",
    "        self._grades = {} # Outer dict\n",
    "    \n",
    "    def add_student(self, name):\n",
    "        self._grades[name] = defaultdict(list)  # Inner dict"
   ]
  },
  {
   "attachments": {},
   "cell_type": "markdown",
   "metadata": {},
   "source": [
    "This seems straightforward, the `report_grade` and `average_grade` methods gain a bit of complexity to deal with the multilevel dictionary. If the requirements change again and we also need to track the weight of each score toward the overall grade in the class, it gets even more complex.\n",
    "We can make the grades be a tuple and map the subject in the inner dict to a tuple of `(score, weight)`. "
   ]
  },
  {
   "cell_type": "code",
   "execution_count": 4,
   "metadata": {},
   "outputs": [],
   "source": [
    "class WeightedGradebook:\n",
    "    def __init__(self):\n",
    "        self._grades = {}\n",
    "    \n",
    "    def add_student(self, name):\n",
    "        self._grades[name] = defaultdict(list)\n",
    "    \n",
    "    def report_grade(self, name, subject, score, weight):\n",
    "        by_subject = self._grades[name]\n",
    "        grade_list = by_subject[subject]\n",
    "        grade_list.append((score, weight))\n"
   ]
  },
  {
   "attachments": {},
   "cell_type": "markdown",
   "metadata": {},
   "source": [
    "Now the `average_grade` method now has to loop within a loop and is difficult to read:"
   ]
  },
  {
   "cell_type": "code",
   "execution_count": 6,
   "metadata": {},
   "outputs": [
    {
     "name": "stdout",
     "output_type": "stream",
     "text": [
      "80.25\n"
     ]
    }
   ],
   "source": [
    "class WeightedGradebook:\n",
    "    def __init__(self):\n",
    "        self._grades = {}\n",
    "    \n",
    "    def add_student(self, name):\n",
    "        self._grades[name] = defaultdict(list)\n",
    "    \n",
    "    def report_grade(self, name, subject, score, weight):\n",
    "        by_subject = self._grades[name]\n",
    "        grade_list = by_subject[subject]\n",
    "        grade_list.append((score, weight))\n",
    "\n",
    "    def average_grade(self, name):\n",
    "        by_subject = self._grades[name]\n",
    "\n",
    "        score_sum, score_count = 0, 0\n",
    "        for subject, scores in by_subject.items():\n",
    "            subject_avg, total_weight = 0, 0\n",
    "            for score, weight in scores:\n",
    "                subject_avg += score * weight\n",
    "                total_weight += weight\n",
    "            \n",
    "            score_sum += subject_avg / total_weight\n",
    "            score_count += 1\n",
    "        return score_sum / score_count\n",
    "\n",
    "book = WeightedGradebook()\n",
    "book.add_student(\"Sarah Brook\")\n",
    "book.report_grade(\"Sarah Brook\", \"Math\", 75, 0.05)\n",
    "book.report_grade(\"Sarah Brook\", \"Math\", 65, 0.15)\n",
    "book.report_grade(\"Sarah Brook\", \"Math\", 70, 0.8)\n",
    "book.report_grade(\"Sarah Brook\", \"Gym\", 100, 0.4)\n",
    "book.report_grade(\"Sarah Brook\", \"Gym\", 85, 0.6)\n",
    "\n",
    "print(book.average_grade(\"Sarah Brook\"))\n"
   ]
  },
  {
   "attachments": {},
   "cell_type": "markdown",
   "metadata": {},
   "source": [
    "#### Refactoring to Classes\n",
    "We can start moving to classes at the bottom of the dependency tree: a single grade. A class seems too heavyweight for such a simple information. A `tuple` though, seems appropriate because grades are immutable. The problem with that is that `tuple` instances are positional. For example, if we want to associate more information with grade than its weight, such as a set of notes from the teacher, we need to rewrite every usage of the two-tuple to be aware that there are now three items present instead of two. \n",
    "\n",
    "As soon as you find yourself going longer than a two-tuple, it's time to consider another approach. The `namedtuple` type in the `collections` built-in module does that: It lets you easily define a tiny, immutable data class:"
   ]
  },
  {
   "cell_type": "code",
   "execution_count": 11,
   "metadata": {},
   "outputs": [],
   "source": [
    "from collections import namedtuple\n",
    "\n",
    "Grade = namedtuple(\"Grade\", (\"score\", \"weight\"))"
   ]
  },
  {
   "attachments": {},
   "cell_type": "markdown",
   "metadata": {},
   "source": [
    "The fields are accessible with named attributes. Having named attributes makes it easy to move from a `namedtuple` to a class later if the requirements change again and we need support mutability or behaviours in the simple data containers for example.\n",
    "\n",
    "#### Limitations of `namedtuple`\n",
    "1. You can't specify default argument values for `namedtuple` classes. If you find yourself using more than a handful of attibutes, using the built-in `dataclasses` module may be a better choice.\n",
    "2. The attribute values of the `namedtuple` instances are still accessible via numerical indexes and iteration. Especially in externalised APIs, this can lead to unintentional usage that makes it harder to move to a real class later. If you're not in control of all of the usage of your `namedtuple` instances, it's better to explicitly define a new class.\n",
    "Now we can write a class to represent a single subject that contains a set of grades:"
   ]
  },
  {
   "cell_type": "code",
   "execution_count": 7,
   "metadata": {},
   "outputs": [],
   "source": [
    "class Subject:\n",
    "    def __init__(self):\n",
    "        self._grades = []\n",
    "    \n",
    "    def report_grade(self, score, weight):\n",
    "        self._grades.append(Grade(score, weight))\n",
    "    \n",
    "    def average_grade(self):\n",
    "        total, total_weight = 0, 0\n",
    "        for grade in self._grades:\n",
    "            total += grade.score * grade.weight\n",
    "            total_weight += grade.weight\n",
    "        return total / total_weight\n"
   ]
  },
  {
   "attachments": {},
   "cell_type": "markdown",
   "metadata": {},
   "source": [
    "Now, we can define a class that represents a set of subjects studied by a single student."
   ]
  },
  {
   "cell_type": "code",
   "execution_count": 12,
   "metadata": {},
   "outputs": [],
   "source": [
    "class Student:\n",
    "    def __init__(self):\n",
    "        self._subjects = defaultdict(Subject)\n",
    "    \n",
    "    def get_subject(self, name):\n",
    "        return self._subjects[name]\n",
    "    \n",
    "    def average_grade(self):\n",
    "        total, count = 0, 0\n",
    "        for subject in self._subjects.values():\n",
    "            total += subject.average_grade()\n",
    "            count += 1\n",
    "        return total / count"
   ]
  },
  {
   "attachments": {},
   "cell_type": "markdown",
   "metadata": {},
   "source": [
    "And finally, we will define a container for all the students, keyed dynamically by their names:"
   ]
  },
  {
   "cell_type": "code",
   "execution_count": 13,
   "metadata": {},
   "outputs": [
    {
     "name": "stdout",
     "output_type": "stream",
     "text": [
      "80.25\n"
     ]
    }
   ],
   "source": [
    "class Gradebook:\n",
    "    def __init__(self):\n",
    "        self._students = defaultdict(Student)\n",
    "    \n",
    "    def get_student(self, name):\n",
    "        return self._students[name]\n",
    "\n",
    "\n",
    "book = Gradebook()\n",
    "albert = book.get_student(\"Albert Einstein\")\n",
    "math = albert.get_subject(\"Math\")\n",
    "math.report_grade(75, 0.05)\n",
    "math.report_grade(65, 0.15)\n",
    "math.report_grade(70, 0.8)\n",
    "\n",
    "gym = albert.get_subject(\"Gym\")\n",
    "gym.report_grade(100, 0.4)\n",
    "gym.report_grade(85, 0.6)\n",
    "print(albert.average_grade())"
   ]
  },
  {
   "attachments": {},
   "cell_type": "markdown",
   "metadata": {},
   "source": [
    "### Item 38: Accept Functions Instead of Classes for Simple Interfaces\n",
    "- Instead of defining and instantiating classes, you can often simply use functions for simple interfaces between components in Python.\n",
    "- References to functions and methods in Python are first class, meaning then can be used in expressions (like any other type).\n",
    "- The `__call__` special method enables instances of a class to be called like plain Python functions.\n",
    "- When you need a function to maintain state, consider defining a class that provides the `__call__` method instead of defining a stateful closure for easier readibility. Do not define a class without the `__call__` method because it is not immediately obvious to the reader what the purpose of the class is. "
   ]
  },
  {
   "cell_type": "code",
   "execution_count": 1,
   "metadata": {},
   "outputs": [],
   "source": [
    "from collections import defaultdict\n",
    "\n",
    "current = {\"green\": 12, \"blue\": 3}\n",
    "\n",
    "increments = [\n",
    "    (\"red\", 5),\n",
    "    (\"blue\", 17),\n",
    "    (\"orange\", 9)\n",
    "]\n",
    "\n",
    "class BetterCountMissing:\n",
    "    def __init__(self):\n",
    "        self.added = 0\n",
    "\n",
    "    def __call__(self):\n",
    "        self.added += 1\n",
    "        return 0\n",
    "    \n",
    "counter = BetterCountMissing()\n",
    "result = defaultdict(counter, current)\n",
    "for key, amount in increments:\n",
    "    result[key] += amount\n",
    "\n",
    "assert counter.added == 2"
   ]
  },
  {
   "attachments": {},
   "cell_type": "markdown",
   "metadata": {},
   "source": [
    "### Item 39: Use @classmethod Polymorphism to Construct Objects Generically\n",
    "Polymorphasim enables multiple classes in a hierarchy to implement their own unique versions of a method.  "
   ]
  },
  {
   "attachments": {},
   "cell_type": "markdown",
   "metadata": {},
   "source": [
    "### Item 40: Initialise Parent Classes with `super`\n",
    "The simple way to initialise a parent class from a child class is to directly call the parent class's `__init__` method with the child instance:"
   ]
  },
  {
   "cell_type": "code",
   "execution_count": 3,
   "metadata": {},
   "outputs": [],
   "source": [
    "class MyBaseClass:\n",
    "    def __init__(self, value):\n",
    "       self.value = value\n",
    "\n",
    "class MyChildClass(MyBaseClass):\n",
    "    def __init__(self):\n",
    "        MyBaseClass.__init__(self, 5) "
   ]
  },
  {
   "attachments": {},
   "cell_type": "markdown",
   "metadata": {},
   "source": [
    "This works fine for base class hierarchies but breaks in many cases. If a class inherits from multiple classes (something that should be avoided in general), calling the superclasses' `__init__` methods directly ca lead to unpredictable behaviour.\n",
    "1. One problem is that the `__init__` call order isn't specified across all subclasses."
   ]
  },
  {
   "cell_type": "code",
   "execution_count": 11,
   "metadata": {},
   "outputs": [],
   "source": [
    "class TimesTwo:\n",
    "    def __init__(self):\n",
    "        self.value *= 2\n",
    "\n",
    "class PlusFive:\n",
    "    def __init__(self):\n",
    "        self.value += 5"
   ]
  },
  {
   "attachments": {},
   "cell_type": "markdown",
   "metadata": {},
   "source": [
    "This class defines its parent classes in one oredering:"
   ]
  },
  {
   "cell_type": "code",
   "execution_count": 9,
   "metadata": {},
   "outputs": [],
   "source": [
    "class OneWay(MyBaseClass, TimesTwo, PlusFive):\n",
    "    def __init__(self, value):\n",
    "        MyBaseClass.__init__(self, value)\n",
    "        TimesTwo.__init__(self)\n",
    "        PlusFive.__init__(self)"
   ]
  },
  {
   "attachments": {},
   "cell_type": "markdown",
   "metadata": {},
   "source": [
    "And constructing it produces a result that matches the parent class ordering:"
   ]
  },
  {
   "cell_type": "code",
   "execution_count": 12,
   "metadata": {},
   "outputs": [
    {
     "name": "stdout",
     "output_type": "stream",
     "text": [
      "First ordering value is (5 * 2) + 5 =  15\n"
     ]
    }
   ],
   "source": [
    "foo = OneWay(5)\n",
    "print(\"First ordering value is (5 * 2) + 5 = \", foo.value)"
   ]
  },
  {
   "attachments": {},
   "cell_type": "markdown",
   "metadata": {},
   "source": [
    "Here's another class that defines the same parent classes but in a different ordering (`PlusFive` followed by `TimesTwo` instead of the other way around):"
   ]
  },
  {
   "cell_type": "code",
   "execution_count": 13,
   "metadata": {},
   "outputs": [],
   "source": [
    "class AnotherWay(MyBaseClass, PlusFive, TimesTwo):\n",
    "    def __init__(self, value):\n",
    "        MyBaseClass.__init__(self, value)\n",
    "        TimesTwo.__init__(self)\n",
    "        PlusFive.__init__(self)"
   ]
  },
  {
   "attachments": {},
   "cell_type": "markdown",
   "metadata": {},
   "source": [
    "But the calls to the parent class constructors are in the same order as before, which means this class's behaviour doesn't match the order of the parent classes in its definition. The conflict here between the inheritance base classes and the `__init__` calls is hard to spot.   \n",
    "2. Another problem occurs with diamond inheritance. Diamond inheritance happens when a subclass inherits from two separate classes that have the same superclass somewhere in the hierarchy. Diamond inheritance causes the common superclass's `__init__` to run multiple times, causing unexpected behaviour."
   ]
  },
  {
   "cell_type": "code",
   "execution_count": 14,
   "metadata": {},
   "outputs": [
    {
     "name": "stdout",
     "output_type": "stream",
     "text": [
      "Should be (5 * 7) + 9 = 44 but is  14\n"
     ]
    }
   ],
   "source": [
    "class TimesSeven(MyBaseClass):\n",
    "    def __init__(self, value):\n",
    "        MyBaseClass.__init__(self, value)\n",
    "        self.value *= 7\n",
    "\n",
    "class PlusNine(MyBaseClass):\n",
    "    def __init__(self, value):\n",
    "        MyBaseClass.__init__(self, value)\n",
    "        self.value += 9\n",
    "    \n",
    "# MyBaseClass is the top of the diamond\n",
    "class ThisWay(TimesSeven, PlusNine):\n",
    "    def __init__(self, value):\n",
    "        TimesSeven.__init__(self, value)\n",
    "        PlusNine.__init__(self, value)\n",
    "\n",
    "foo = ThisWay(5)\n",
    "print(\"Should be (5 * 7) + 9 = 44 but is \", foo.value)"
   ]
  },
  {
   "attachments": {},
   "cell_type": "markdown",
   "metadata": {},
   "source": [
    "The call to the second parent class's constructor, `PlusNine.__init__`, causes `self.value` to be reset back to 5 when `MyBaseClass.__init__` gets called a second time.    \n",
    "To solve these problems, Python has the `super` built-in function and standard method resolution order (MRO). `super` ensures that common superclasses in diamon hierarchies are run only once. The MRO defines the ordering in which superclasses are initialised following an algorithmc called `C3 linearisation`. "
   ]
  },
  {
   "cell_type": "code",
   "execution_count": 17,
   "metadata": {},
   "outputs": [
    {
     "name": "stdout",
     "output_type": "stream",
     "text": [
      "Should be 7 * (5 + 9) = 98 but is  98\n"
     ]
    }
   ],
   "source": [
    "class TimesSevenCorrect(MyBaseClass):\n",
    "    def __init__(self, value):\n",
    "        super().__init__(value) # Note that no self is passed\n",
    "        self.value *= 7\n",
    "\n",
    "class PlusNineCorrect(MyBaseClass):\n",
    "    def __init__(self, value):\n",
    "        super().__init__(value)\n",
    "        self.value += 9\n",
    "    \n",
    "# MyBaseClass is the top of the diamond\n",
    "class GoodWay(TimesSevenCorrect, PlusNineCorrect):\n",
    "    def __init__(self, value):\n",
    "        super().__init__(value) # only once\n",
    "\n",
    "foo = GoodWay(5)\n",
    "print(\"Should be 7 * (5 + 9) = 98 but is \", foo.value)"
   ]
  },
  {
   "attachments": {},
   "cell_type": "markdown",
   "metadata": {},
   "source": [
    "This order may seem backward. Shouldn't `TimesSevenCorrect.__init__` have run first and the result be (5 * 7) + 9?   \n",
    "This ordering matches what the MRO defines for this class. "
   ]
  },
  {
   "cell_type": "code",
   "execution_count": 18,
   "metadata": {},
   "outputs": [
    {
     "name": "stdout",
     "output_type": "stream",
     "text": [
      "<class '__main__.GoodWay'>\n",
      "<class '__main__.TimesSevenCorrect'>\n",
      "<class '__main__.PlusNineCorrect'>\n",
      "<class '__main__.MyBaseClass'>\n",
      "<class 'object'>\n"
     ]
    }
   ],
   "source": [
    "mro_str = \"\\n\".join(repr(cls) for cls in GoodWay.mro())\n",
    "print(mro_str)"
   ]
  },
  {
   "attachments": {},
   "cell_type": "markdown",
   "metadata": {},
   "source": [
    "When `GoodWay(5)` is called, it in turn class `TimesSevenCorrect.__init__` which calls `PlusNineCorrect.__init__`, which calls `MyBaseClass.__init__`. Once this reaches the top of the diamond, all of the initialisation methds actually do their work in the opposite order from how their `__init__` methods were called.   \n",
    "Another benefit to `super` is easy maintainability. If you want to rename `MyBaseClass` to something else or have `PlusNineCorrect` inherit from something else, you can do that without having to update all the `__init__` methods to match."
   ]
  },
  {
   "attachments": {},
   "cell_type": "markdown",
   "metadata": {},
   "source": [
    "The only time you should provide parameters to super is in situations where you need to access the specific functionality of a superclass's implementation from a child class, e.g. to wrap or reuse functionality."
   ]
  },
  {
   "attachments": {},
   "cell_type": "markdown",
   "metadata": {},
   "source": [
    "### Item 41: Consider Composing Functionality with Mix-in Classes\n",
    "To avoid multiple inheritance, use a `mix-in`. A `mix-in` is a class that defines only a small set of additional methods for its child classes to provide. `Mix-in` classes don't define their own instance attibutes nor require their `__init__` constructor to be called. They assume that the subclasses have certain attributes and the modify them."
   ]
  },
  {
   "cell_type": "code",
   "execution_count": 19,
   "metadata": {},
   "outputs": [],
   "source": [
    "class ToDictMixin:\n",
    "    def to_dict(self):\n",
    "        return self._traverse_dict(self.__dict__)"
   ]
  },
  {
   "attachments": {},
   "cell_type": "markdown",
   "metadata": {},
   "source": [
    "### Item 42: Prefer Public Attributes Over Private Ones\n",
    "Private fields are specified by prefixing an attribute's name with a double underscore. They can be accessed directly by methods of the containing class:"
   ]
  },
  {
   "cell_type": "code",
   "execution_count": 20,
   "metadata": {},
   "outputs": [],
   "source": [
    "class MyObject:\n",
    "    def __init__(self):\n",
    "        self.public_field = 5\n",
    "        self.__private_field = 10\n",
    "    \n",
    "    def get_private_field(self):\n",
    "        return self.__private_field\n",
    "    \n",
    "\n",
    "foo = MyObject()\n",
    "assert foo.get_private_field() == 10"
   ]
  },
  {
   "attachments": {},
   "cell_type": "markdown",
   "metadata": {},
   "source": [
    "However, directly accessing private fields from outside the class raises an exception:"
   ]
  },
  {
   "cell_type": "code",
   "execution_count": 21,
   "metadata": {},
   "outputs": [
    {
     "ename": "AttributeError",
     "evalue": "'MyObject' object has no attribute '__private_field'",
     "output_type": "error",
     "traceback": [
      "\u001b[0;31m---------------------------------------------------------------------------\u001b[0m",
      "\u001b[0;31mAttributeError\u001b[0m                            Traceback (most recent call last)",
      "Cell \u001b[0;32mIn[21], line 1\u001b[0m\n\u001b[0;32m----> 1\u001b[0m foo\u001b[39m.\u001b[39;49m__private_field\n",
      "\u001b[0;31mAttributeError\u001b[0m: 'MyObject' object has no attribute '__private_field'"
     ]
    }
   ],
   "source": [
    "foo.__private_field"
   ]
  },
  {
   "attachments": {},
   "cell_type": "markdown",
   "metadata": {},
   "source": [
    "Class methods also have access to private attributes because they are declared within the surrounding class block:"
   ]
  },
  {
   "cell_type": "code",
   "execution_count": 22,
   "metadata": {},
   "outputs": [],
   "source": [
    "class MyOtherObject:\n",
    "    def __init__(self):\n",
    "       self.__private_field = 71\n",
    "\n",
    "    @classmethod\n",
    "    def get_private_field_of_instance(cls, instance):\n",
    "        return instance.__private_field\n",
    "\n",
    "bar = MyOtherObject()\n",
    "assert MyOtherObject.get_private_field_of_instance(bar) == 71 "
   ]
  },
  {
   "attachments": {},
   "cell_type": "markdown",
   "metadata": {},
   "source": [
    "A subclass can't access its parent class's private fields:"
   ]
  },
  {
   "cell_type": "code",
   "execution_count": 23,
   "metadata": {},
   "outputs": [
    {
     "ename": "AttributeError",
     "evalue": "'MyChildObject' object has no attribute '_MyChildObject__private_field'",
     "output_type": "error",
     "traceback": [
      "\u001b[0;31m---------------------------------------------------------------------------\u001b[0m",
      "\u001b[0;31mAttributeError\u001b[0m                            Traceback (most recent call last)",
      "Cell \u001b[0;32mIn[23], line 10\u001b[0m\n\u001b[1;32m      7\u001b[0m         \u001b[39mreturn\u001b[39;00m \u001b[39mself\u001b[39m\u001b[39m.\u001b[39m__private_field\n\u001b[1;32m      9\u001b[0m baz \u001b[39m=\u001b[39m MyChildObject()\n\u001b[0;32m---> 10\u001b[0m baz\u001b[39m.\u001b[39;49mget_private_field()\n",
      "Cell \u001b[0;32mIn[23], line 7\u001b[0m, in \u001b[0;36mMyChildObject.get_private_field\u001b[0;34m(self)\u001b[0m\n\u001b[1;32m      6\u001b[0m \u001b[39mdef\u001b[39;00m \u001b[39mget_private_field\u001b[39m(\u001b[39mself\u001b[39m):\n\u001b[0;32m----> 7\u001b[0m     \u001b[39mreturn\u001b[39;00m \u001b[39mself\u001b[39;49m\u001b[39m.\u001b[39;49m__private_field\n",
      "\u001b[0;31mAttributeError\u001b[0m: 'MyChildObject' object has no attribute '_MyChildObject__private_field'"
     ]
    }
   ],
   "source": [
    "class MyParentObject:\n",
    "    def __init__(self):\n",
    "        self.__private_field = 71\n",
    "\n",
    "class MyChildObject(MyParentObject):\n",
    "    def get_private_field(self):\n",
    "        return self.__private_field\n",
    "\n",
    "baz = MyChildObject()\n",
    "baz.get_private_field()"
   ]
  },
  {
   "attachments": {},
   "cell_type": "markdown",
   "metadata": {},
   "source": [
    "When the Python compiler sees private attribute access in methods like `MyChildObject.get_private_field` it translates the `__private_field` attribute access to use the name `_MyChildObject__private_field` instead. In the example above, `__private_field` is only defined in `MyParentObject.__init__` which means the private attribute's real name is `_MyParentObject__private_field`. Accessing the parent's private attribute from the child class fails simply because the transformed attribute name doesn't exist.   \n",
    "Knowing this scheme, you can easily access the private attributes of any class- from a subclass or externally-without asking for permission:"
   ]
  },
  {
   "cell_type": "code",
   "execution_count": 24,
   "metadata": {},
   "outputs": [],
   "source": [
    "assert baz._MyParentObject__private_field == 71"
   ]
  },
  {
   "attachments": {},
   "cell_type": "markdown",
   "metadata": {},
   "source": [
    "If you look in the object's attribute dictionary, you can see that private attributes are actually stored with the names as they apear after the transformation:"
   ]
  },
  {
   "cell_type": "code",
   "execution_count": 25,
   "metadata": {},
   "outputs": [
    {
     "name": "stdout",
     "output_type": "stream",
     "text": [
      "{'_MyParentObject__private_field': 71}\n"
     ]
    }
   ],
   "source": [
    "print(baz.__dict__)"
   ]
  }
 ],
 "metadata": {
  "kernelspec": {
   "display_name": "Python 3",
   "language": "python",
   "name": "python3"
  },
  "language_info": {
   "codemirror_mode": {
    "name": "ipython",
    "version": 3
   },
   "file_extension": ".py",
   "mimetype": "text/x-python",
   "name": "python",
   "nbconvert_exporter": "python",
   "pygments_lexer": "ipython3",
   "version": "3.10.4"
  },
  "orig_nbformat": 4,
  "vscode": {
   "interpreter": {
    "hash": "b15436c7f516b88ae2a487806d69c541d6bb42963a5131ebb7e108c8c3608725"
   }
  }
 },
 "nbformat": 4,
 "nbformat_minor": 2
}
