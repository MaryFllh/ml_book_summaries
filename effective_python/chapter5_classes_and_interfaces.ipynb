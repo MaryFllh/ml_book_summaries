{
 "cells": [
  {
   "attachments": {},
   "cell_type": "markdown",
   "metadata": {},
   "source": [
    "## Classes and Interfaces\n",
    "### Item 37: Compose Classes Instead of Nesting Many Levels of Built-in Types\n",
    "- Avoid making dictionaries with values that are dictionaries, long tuples, or complex nesting of other built-in types.\n",
    "- Use `namedtuple` for lightweight, immutable data containers before you need the flexibility of a full class.\n",
    "- Move your bookkeeping code to using multiple classes when your internal state dictionaries get complicated.\n",
    "#### Example\n",
    "We want to record the grades of a set of students whose names aren't known in advance. A class can hold the names in a dictionary instead of using a predefined attribute for each student."
   ]
  },
  {
   "cell_type": "code",
   "execution_count": 2,
   "metadata": {},
   "outputs": [
    {
     "name": "stdout",
     "output_type": "stream",
     "text": [
      "90.0\n"
     ]
    }
   ],
   "source": [
    "class SimpleGradebook:\n",
    "    def __init__(self):\n",
    "        self._grades = {}\n",
    "    \n",
    "    def add_student(self, name):\n",
    "        self._grades[name] = []\n",
    "    \n",
    "    def report_grade(self, name, score):\n",
    "        self._grades[name].append(score)\n",
    "    \n",
    "    def average_grade(self, name):\n",
    "        grades = self._grades[name]\n",
    "        return sum(grades) / len(grades)\n",
    "    \n",
    "book = SimpleGradebook()\n",
    "book.add_student(\"Sarah Brook\")\n",
    "book.report_grade(\"Sarah Brook\", 90)\n",
    "book.report_grade(\"Sarah Brook\", 85)\n",
    "book.report_grade(\"Sarah Brook\", 95)\n",
    "print(book.average_grade(\"Sarah Brook\"))\n"
   ]
  },
  {
   "attachments": {},
   "cell_type": "markdown",
   "metadata": {},
   "source": [
    "- Dictionaries and their related built-in types are so easy to use that they have the risk of overextending them to write brittle code. \n",
    "- If we want to extend the `SimpleGradebook` class to keep a list of grades by subject, not just overall. This can be done by changing the `_grades` dictionary to hold yet another dictionary that maps the subject name to the grades. \n",
    "- The inner dictionary can be a `defaultdict` instance to handle missing subjects."
   ]
  },
  {
   "cell_type": "code",
   "execution_count": 3,
   "metadata": {},
   "outputs": [],
   "source": [
    "from collections import defaultdict\n",
    "\n",
    "class BySubjectGradebook:\n",
    "    def __init__(self):\n",
    "        self._grades = {} # Outer dict\n",
    "    \n",
    "    def add_student(self, name):\n",
    "        self._grades[name] = defaultdict(list)  # Inner dict"
   ]
  },
  {
   "attachments": {},
   "cell_type": "markdown",
   "metadata": {},
   "source": [
    "This seems straightforward, the `report_grade` and `average_grade` methods gain a bit of complexity to deal with the multilevel dictionary. If the requirements change again and we also need to track the weight of each score toward the overall grade in the class, it gets even more complex.\n",
    "We can make the grades be a tuple and map the subject in the inner dict to a tuple of `(score, weight)`. "
   ]
  },
  {
   "cell_type": "code",
   "execution_count": 4,
   "metadata": {},
   "outputs": [],
   "source": [
    "class WeightedGradebook:\n",
    "    def __init__(self):\n",
    "        self._grades = {}\n",
    "    \n",
    "    def add_student(self, name):\n",
    "        self._grades[name] = defaultdict(list)\n",
    "    \n",
    "    def report_grade(self, name, subject, score, weight):\n",
    "        by_subject = self._grades[name]\n",
    "        grade_list = by_subject[subject]\n",
    "        grade_list.append((score, weight))\n"
   ]
  },
  {
   "attachments": {},
   "cell_type": "markdown",
   "metadata": {},
   "source": [
    "Now the `average_grade` method now has to loop within a loop and is difficult to read:"
   ]
  },
  {
   "cell_type": "code",
   "execution_count": 6,
   "metadata": {},
   "outputs": [
    {
     "name": "stdout",
     "output_type": "stream",
     "text": [
      "80.25\n"
     ]
    }
   ],
   "source": [
    "class WeightedGradebook:\n",
    "    def __init__(self):\n",
    "        self._grades = {}\n",
    "    \n",
    "    def add_student(self, name):\n",
    "        self._grades[name] = defaultdict(list)\n",
    "    \n",
    "    def report_grade(self, name, subject, score, weight):\n",
    "        by_subject = self._grades[name]\n",
    "        grade_list = by_subject[subject]\n",
    "        grade_list.append((score, weight))\n",
    "\n",
    "    def average_grade(self, name):\n",
    "        by_subject = self._grades[name]\n",
    "\n",
    "        score_sum, score_count = 0, 0\n",
    "        for subject, scores in by_subject.items():\n",
    "            subject_avg, total_weight = 0, 0\n",
    "            for score, weight in scores:\n",
    "                subject_avg += score * weight\n",
    "                total_weight += weight\n",
    "            \n",
    "            score_sum += subject_avg / total_weight\n",
    "            score_count += 1\n",
    "        return score_sum / score_count\n",
    "\n",
    "book = WeightedGradebook()\n",
    "book.add_student(\"Sarah Brook\")\n",
    "book.report_grade(\"Sarah Brook\", \"Math\", 75, 0.05)\n",
    "book.report_grade(\"Sarah Brook\", \"Math\", 65, 0.15)\n",
    "book.report_grade(\"Sarah Brook\", \"Math\", 70, 0.8)\n",
    "book.report_grade(\"Sarah Brook\", \"Gym\", 100, 0.4)\n",
    "book.report_grade(\"Sarah Brook\", \"Gym\", 85, 0.6)\n",
    "\n",
    "print(book.average_grade(\"Sarah Brook\"))\n"
   ]
  },
  {
   "attachments": {},
   "cell_type": "markdown",
   "metadata": {},
   "source": [
    "#### Refactoring to Classes\n",
    "We can start moving to classes at the bottom of the dependency tree: a single grade. A class seems too heavyweight for such a simple information. A `tuple` though, seems appropriate because grades are immutable. The problem with that is that `tuple` instances are positional. For example, if we want to associate more information with grade than its weight, such as a set of notes from the teacher, we need to rewrite every usage of the two-tuple to be aware that there are now three items present instead of two. \n",
    "\n",
    "As soon as you find yourself going longer than a two-tuple, it's time to consider another approach. The `namedtuple` type in the `collections` built-in module does that: It lets you easily define a tiny, immutable data class:"
   ]
  },
  {
   "cell_type": "code",
   "execution_count": null,
   "metadata": {},
   "outputs": [],
   "source": [
    "from collection import namedtuple\n",
    "\n",
    "Grade = namedtuple(\"Grade\", (\"score\", \"weight\"))"
   ]
  },
  {
   "attachments": {},
   "cell_type": "markdown",
   "metadata": {},
   "source": [
    "The fields are accessible with named attributes. Having named attributes makes it easy to move from a `namedtuple` to a class later if the requirements change again and we need support mutability or behaviours in the simple data containers for example.\n",
    "\n",
    "#### Limitations of `namedtuple`"
   ]
  }
 ],
 "metadata": {
  "kernelspec": {
   "display_name": "Python 3",
   "language": "python",
   "name": "python3"
  },
  "language_info": {
   "codemirror_mode": {
    "name": "ipython",
    "version": 3
   },
   "file_extension": ".py",
   "mimetype": "text/x-python",
   "name": "python",
   "nbconvert_exporter": "python",
   "pygments_lexer": "ipython3",
   "version": "3.10.4"
  },
  "orig_nbformat": 4,
  "vscode": {
   "interpreter": {
    "hash": "b15436c7f516b88ae2a487806d69c541d6bb42963a5131ebb7e108c8c3608725"
   }
  }
 },
 "nbformat": 4,
 "nbformat_minor": 2
}
