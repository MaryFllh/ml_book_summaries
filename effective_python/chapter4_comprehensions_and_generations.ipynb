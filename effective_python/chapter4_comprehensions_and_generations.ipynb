{
 "cells": [
  {
   "attachments": {},
   "cell_type": "markdown",
   "metadata": {},
   "source": [
    "## Comprehensions and Generators\n",
    "### Item 27: Use Comprehensions Instead of map and filter\n",
    "- List comprehensions are clearer than the `map` and `filter` built-in functions because they don't require lambda expressions.\n",
    "- You can easily skip items from the input `list` with comprehensions whereas with `map` you have to use `filter`.\n",
    "\n",
    "### Item 28: Avoid More Than Two Control Subexpressions in Comprehensions\n",
    "This could be two conditions, two loops, or one condition and one loop. As soon as it gets more complicated than that you should use normal `if` and `for` statements.\n",
    "\n",
    "### Item 29: Avoid Repeated Work in Comprehensions by Using Assignment Expressions"
   ]
  },
  {
   "cell_type": "code",
   "execution_count": 1,
   "metadata": {},
   "outputs": [
    {
     "name": "stdout",
     "output_type": "stream",
     "text": [
      "{'screws': 4, 'wingnuts': 1}\n"
     ]
    }
   ],
   "source": [
    "stock = {\n",
    "    \"nails\": 125,\n",
    "    \"screws\": 35,\n",
    "    \"wingnuts\": 8,\n",
    "    \"washers\": 24\n",
    "}\n",
    "\n",
    "order = [\"screws\", \"wingnuts\", \"clips\"]\n",
    "\n",
    "def get_batches(count, size):\n",
    "    return count // size\n",
    "\n",
    "\n",
    "found = {name: get_batches(stock.get(name, 0), 8)\n",
    "        for name in order\n",
    "        if get_batches(stock.get(name, 0), 8)}\n",
    "\n",
    "print(found)"
   ]
  },
  {
   "attachments": {},
   "cell_type": "markdown",
   "metadata": {},
   "source": [
    "This is hard to read and is prone to bugs if the repeated calls are not in sync. See below:"
   ]
  },
  {
   "cell_type": "code",
   "execution_count": 2,
   "metadata": {},
   "outputs": [
    {
     "name": "stdout",
     "output_type": "stream",
     "text": [
      "{'screws': 8, 'wingnuts': 2}\n"
     ]
    }
   ],
   "source": [
    "has_bug = {name: get_batches(stock.get(name, 0), 4)\n",
    "        for name in order\n",
    "        if get_batches(stock.get(name, 0), 8)}\n",
    "print(has_bug)"
   ]
  },
  {
   "attachments": {},
   "cell_type": "markdown",
   "metadata": {},
   "source": [
    "An easy solution to these problems is to use the walrun operator (`:=`)"
   ]
  },
  {
   "cell_type": "code",
   "execution_count": null,
   "metadata": {},
   "outputs": [],
   "source": [
    "found = {name: batches for name in order\n",
    "         if (batches := get_batches(stock.get(name, 0), 8))}"
   ]
  },
  {
   "attachments": {},
   "cell_type": "markdown",
   "metadata": {},
   "source": [
    "If a comprehension uses the walrus operator in the value part of the comprehension and doesn't have a condition, it'll leak the loop variable into te containing scope similar to a normal loop. However, this leakage does not happen for the loop variables from comprehensions."
   ]
  },
  {
   "cell_type": "code",
   "execution_count": 3,
   "metadata": {},
   "outputs": [
    {
     "name": "stdout",
     "output_type": "stream",
     "text": [
      "Last item of [62, 17, 4, 12] is 12\n"
     ]
    }
   ],
   "source": [
    "half = [(last := count // 2) for count in stock.values()]\n",
    "print(f\"Last item of {half} is {last}\")"
   ]
  },
  {
   "cell_type": "code",
   "execution_count": 4,
   "metadata": {},
   "outputs": [
    {
     "name": "stdout",
     "output_type": "stream",
     "text": [
      "Last item of [125, 35, 8, 24] is 24\n"
     ]
    }
   ],
   "source": [
    "for count in stock.values():\n",
    "    pass\n",
    "\n",
    "print(f\"Last item of {list(stock.values())} is {count}\")"
   ]
  },
  {
   "cell_type": "code",
   "execution_count": 8,
   "metadata": {},
   "outputs": [
    {
     "name": "stdout",
     "output_type": "stream",
     "text": [
      "[62, 17, 4, 12]\n"
     ]
    }
   ],
   "source": [
    "half = [c // 2 for c in stock.values()]\n",
    "print(half)"
   ]
  },
  {
   "cell_type": "code",
   "execution_count": 9,
   "metadata": {},
   "outputs": [
    {
     "ename": "NameError",
     "evalue": "name 'c' is not defined",
     "output_type": "error",
     "traceback": [
      "\u001b[0;31m---------------------------------------------------------------------------\u001b[0m",
      "\u001b[0;31mNameError\u001b[0m                                 Traceback (most recent call last)",
      "Cell \u001b[0;32mIn[9], line 1\u001b[0m\n\u001b[0;32m----> 1\u001b[0m \u001b[39mprint\u001b[39m(c) \u001b[39m# Exception because the loop variable didn't leak\u001b[39;00m\n",
      "\u001b[0;31mNameError\u001b[0m: name 'c' is not defined"
     ]
    }
   ],
   "source": [
    "print(c) # Exception because the loop variable didn't leak"
   ]
  },
  {
   "attachments": {},
   "cell_type": "markdown",
   "metadata": {},
   "source": [
    "It's better not to leak loop variables, so it's recommended to use assignment expressions only in the condition part of a comprehension. "
   ]
  }
 ],
 "metadata": {
  "kernelspec": {
   "display_name": "Python 3",
   "language": "python",
   "name": "python3"
  },
  "language_info": {
   "codemirror_mode": {
    "name": "ipython",
    "version": 3
   },
   "file_extension": ".py",
   "mimetype": "text/x-python",
   "name": "python",
   "nbconvert_exporter": "python",
   "pygments_lexer": "ipython3",
   "version": "3.10.4"
  },
  "orig_nbformat": 4
 },
 "nbformat": 4,
 "nbformat_minor": 2
}
