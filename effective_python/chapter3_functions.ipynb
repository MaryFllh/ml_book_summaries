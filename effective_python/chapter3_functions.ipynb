{
 "cells": [
  {
   "attachments": {},
   "cell_type": "markdown",
   "metadata": {},
   "source": [
    "## Functions\n",
    "### Item 20: Prefer Raising Exceptions to Returning None\n",
    "The problem with returning `None` is that the code that depends on this return value can misinterpret it in an `if` statement. You might accidentally look for any `False` equivalent value to indicate errors instead of only looking for `None`."
   ]
  },
  {
   "cell_type": "code",
   "execution_count": null,
   "metadata": {},
   "outputs": [],
   "source": [
    "def divide(a, b):\n",
    "    try:\n",
    "        return a / b\n",
    "    except ZeroDivisionError:\n",
    "        return None\n",
    "\n",
    "x, y = 0, 5\n",
    "result = divide(x, y) # this is a valid input\n",
    "if not result:\n",
    "    print(\"Invalid inputs\") "
   ]
  },
  {
   "attachments": {},
   "cell_type": "markdown",
   "metadata": {},
   "source": [
    "The best way to go about it is to raise an exception and leave it to the caller to handle it. The downside is that Python's gradual typing doesn't provide a way to indicate that a function raises exceptions as part of its interface, so you need to mention it in the docstring.\n"
   ]
  },
  {
   "cell_type": "code",
   "execution_count": null,
   "metadata": {},
   "outputs": [],
   "source": [
    "def divide(a: float, b: float):\n",
    "    \"\"\"\n",
    "    Divides a by b.\n",
    "\n",
    "    Raises:\n",
    "        ValueError: When the inputs cannot be divided.\n",
    "    \"\"\"\n",
    "    try:\n",
    "        return a / b\n",
    "    except ZeroDivisionError as e:\n",
    "        raise ValueError(\"Invalid inputs\")\n",
    "\n"
   ]
  }
 ],
 "metadata": {
  "language_info": {
   "name": "python"
  },
  "orig_nbformat": 4
 },
 "nbformat": 4,
 "nbformat_minor": 2
}
