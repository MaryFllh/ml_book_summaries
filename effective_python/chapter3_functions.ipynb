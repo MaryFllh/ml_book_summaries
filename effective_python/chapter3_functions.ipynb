{
 "cells": [
  {
   "attachments": {},
   "cell_type": "markdown",
   "metadata": {},
   "source": [
    "## Functions\n",
    "### Item 20: Prefer Raising Exceptions to Returning None\n",
    "The problem with returning `None` is that the code that depends on this return value can misinterpret it in an `if` statement. You might accidentally look for any `False` equivalent value to indicate errors instead of only looking for `None`."
   ]
  },
  {
   "cell_type": "code",
   "execution_count": null,
   "metadata": {},
   "outputs": [],
   "source": [
    "def divide(a, b):\n",
    "    try:\n",
    "        return a / b\n",
    "    except ZeroDivisionError:\n",
    "        return None\n",
    "\n",
    "x, y = 0, 5\n",
    "result = divide(x, y) # this is a valid input\n",
    "if not result:\n",
    "    print(\"Invalid inputs\") "
   ]
  },
  {
   "attachments": {},
   "cell_type": "markdown",
   "metadata": {},
   "source": [
    "The best way to go about it is to raise an exception and leave it to the caller to handle it. The downside is that Python's gradual typing doesn't provide a way to indicate that a function raises exceptions as part of its interface, so you need to mention it in the docstring.\n"
   ]
  },
  {
   "cell_type": "code",
   "execution_count": null,
   "metadata": {},
   "outputs": [],
   "source": [
    "def divide(a: float, b: float):\n",
    "    \"\"\"\n",
    "    Divides a by b.\n",
    "\n",
    "    Raises:\n",
    "        ValueError: When the inputs cannot be divided.\n",
    "    \"\"\"\n",
    "    try:\n",
    "        return a / b\n",
    "    except ZeroDivisionError as e:\n",
    "        raise ValueError(\"Invalid inputs\")\n"
   ]
  },
  {
   "attachments": {},
   "cell_type": "markdown",
   "metadata": {},
   "source": [
    "### Item 22: Reduce Visual Noise with Variable Positional Arguments\n",
    "Accepting variable positional args can make a function call clearer. These positinal args are called varargs or star args. \n",
    "Say we have a function that takes a message and some values and logs them as below."
   ]
  },
  {
   "cell_type": "code",
   "execution_count": 4,
   "metadata": {},
   "outputs": [
    {
     "name": "stdout",
     "output_type": "stream",
     "text": [
      "My numbers are: 1, 2\n",
      "Hi there\n"
     ]
    }
   ],
   "source": [
    "def log(message, values):\n",
    "    if not values:\n",
    "        print(message)\n",
    "    else:\n",
    "        values_str = \", \".join(str(x) for x in values)\n",
    "        print(f\"{message}: {values_str}\")\n",
    "\n",
    "log(\"My numbers are\", [1, 2])\n",
    "log(\"Hi there\", [])\n"
   ]
  },
  {
   "cell_type": "code",
   "execution_count": 5,
   "metadata": {},
   "outputs": [
    {
     "name": "stdout",
     "output_type": "stream",
     "text": [
      "My numbers are: [1, 2]\n",
      "Hi there\n"
     ]
    }
   ],
   "source": [
    "# do this instead\n",
    "def log(message, *values): # the only different\n",
    "    if not values:\n",
    "        print(message)\n",
    "    else:\n",
    "        values_str = \", \".join(str(x) for x in values)\n",
    "        print(f\"{message}: {values_str}\")\n",
    "\n",
    "log(\"My numbers are\", [1, 2])\n",
    "log(\"Hi there\")"
   ]
  },
  {
   "attachments": {},
   "cell_type": "markdown",
   "metadata": {},
   "source": [
    "There are two problems with accepting a variable number of positional arguments:\n",
    "1. The positional arguments are always turned into a tuple before passed to the function. This means that if the caller of the function uses the `*` operator on a generator, it will be iterated until exhausted which is memory intensive if the numer of inputs in the argument list is large. \n",
    "2. With `*args` you can't add a new positional argument to a function in the future without migrating the old callers. This is error prone as the old callers will not work as expected but also not raise any errors. The best way to mitigate this is to use keyword-only arguments when you want to extend these functions."
   ]
  },
  {
   "attachments": {},
   "cell_type": "markdown",
   "metadata": {},
   "source": [
    "### Item 23: Provide Optional Behaviour with Keyword Arguments\n",
    "There are three benefits to using keyword arguments:\n",
    "1. It is easy for someone new to the code to understand which argument is used for what without looking at the definition of the function. See below:\n"
   ]
  },
  {
   "cell_type": "code",
   "execution_count": 9,
   "metadata": {},
   "outputs": [
    {
     "data": {
      "text/plain": [
       "4"
      ]
     },
     "execution_count": 9,
     "metadata": {},
     "output_type": "execute_result"
    }
   ],
   "source": [
    "def remainder(number, divisor):\n",
    "    return number % divisor\n",
    "\n",
    "remainder(16, 6) # what is 16, what is 6?\n",
    "\n",
    "my_kwargs = {\n",
    "    \"number\": 16,\n",
    "    \"divisor\": 6\n",
    "}\n",
    "remainder(**my_kwargs) # now I know 16 is number and 6 is divisor"
   ]
  },
  {
   "attachments": {},
   "cell_type": "markdown",
   "metadata": {},
   "source": [
    "2. Keyword args can have default values in the function definition which reduces noise and repetition.\n",
    "3. Provides a powerful way to extend a function's parameters while remaining backward compatible with existing callers. \n",
    "    It is best practice to always specify optional arguments using the keyword names and never passing them as positional arguments."
   ]
  }
 ],
 "metadata": {
  "kernelspec": {
   "display_name": "Python 3",
   "language": "python",
   "name": "python3"
  },
  "language_info": {
   "codemirror_mode": {
    "name": "ipython",
    "version": 3
   },
   "file_extension": ".py",
   "mimetype": "text/x-python",
   "name": "python",
   "nbconvert_exporter": "python",
   "pygments_lexer": "ipython3",
   "version": "3.10.4"
  },
  "orig_nbformat": 4
 },
 "nbformat": 4,
 "nbformat_minor": 2
}
