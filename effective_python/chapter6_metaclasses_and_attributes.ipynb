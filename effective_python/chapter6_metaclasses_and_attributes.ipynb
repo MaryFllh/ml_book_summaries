{
 "cells": [
  {
   "attachments": {},
   "cell_type": "markdown",
   "metadata": {},
   "source": [
    "## Metaclasses and Attributes\n",
    "Metaclasses let you intercept Python's `class` statement and provide special behaviour each time a class is defined. However, dynamic attributes enable you to override objects and cause unexpected side effects.\n",
    "\n",
    "### Item 44: Use Plain Attributes Instead of Setter and Getter Methods\n",
    "In Python you don't need to implement explicit setter and getter methods. Instead you should always start your implementations with simple public attributes:"
   ]
  },
  {
   "cell_type": "code",
   "execution_count": 3,
   "metadata": {},
   "outputs": [],
   "source": [
    "class Resistor:\n",
    "    def __init__(self, ohms):\n",
    "        self.ohms = ohms\n",
    "        self.voltage = 0\n",
    "        self.currect = 0\n",
    "\n",
    "r1 = Resistor(50e3)\n",
    "r1.ohms = 10e3"
   ]
  },
  {
   "attachments": {},
   "cell_type": "markdown",
   "metadata": {},
   "source": [
    "These attributes make operations like incrementing in place natureal and clear:"
   ]
  },
  {
   "cell_type": "code",
   "execution_count": 4,
   "metadata": {},
   "outputs": [],
   "source": [
    "r1.ohms += 5e3"
   ]
  },
  {
   "attachments": {},
   "cell_type": "markdown",
   "metadata": {},
   "source": [
    "Later, if you decide you need special behaviour when an attribute is set, you can migrate to the `@property` decorator and its corresponding `setter` attribute. Below a new subclass of `Resistor` is defined that allows the current to vary by assigning the `voltage` property. For this code to work, the names of both the setter and he getter methods must match the intended property name:"
   ]
  },
  {
   "cell_type": "code",
   "execution_count": 5,
   "metadata": {},
   "outputs": [],
   "source": [
    "class VoltageResistance(Resistor):\n",
    "    def __init__(self, ohms):\n",
    "        super().__init__(ohms)\n",
    "        self._voltage = 0\n",
    "\n",
    "    @property\n",
    "    def voltage(self):  # the getter\n",
    "        return self._voltage\n",
    "    \n",
    "    @voltage.setter\n",
    "    def voltage(self, voltage):\n",
    "        self._voltage = voltage\n",
    "        self.current = self._voltage / self.ohms"
   ]
  },
  {
   "attachments": {},
   "cell_type": "markdown",
   "metadata": {},
   "source": [
    "Now assigning the voltage property will run the voltage setter which in turn will update the `current` attribute of the object to match:"
   ]
  },
  {
   "cell_type": "code",
   "execution_count": 6,
   "metadata": {},
   "outputs": [
    {
     "name": "stdout",
     "output_type": "stream",
     "text": [
      "Before: 0.00 amps\n",
      "After: 0.01 amps\n"
     ]
    }
   ],
   "source": [
    "r2 = VoltageResistance(1e3)\n",
    "print(f\"Before: {r2.current:.2f} amps\")\n",
    "r2.voltage = 10\n",
    "print(f\"After: {r2.current:.2f} amps\")"
   ]
  },
  {
   "attachments": {},
   "cell_type": "markdown",
   "metadata": {},
   "source": [
    "Another advantage of using a `setter` on a property is validation on values and type checking for values passed to the class or making the parent attributes immutable. Here, we define a class that ensures that all resistance values are above zero ohms:"
   ]
  },
  {
   "cell_type": "code",
   "execution_count": 7,
   "metadata": {},
   "outputs": [],
   "source": [
    "class BoundedResistance(Resistor):\n",
    "    def __init__(self, ohms):\n",
    "        super().__init__(ohms)\n",
    "\n",
    "    @property\n",
    "    def ohms(self):\n",
    "        return self._ohms\n",
    "\n",
    "    @ohms.setter\n",
    "    def ohms(self, ohms):\n",
    "        if ohms <= 0:\n",
    "            raise ValueError(f\"Ohms must be > 0; got {ohms}\")\n",
    "        self._ohms = ohms"
   ]
  },
  {
   "attachments": {},
   "cell_type": "markdown",
   "metadata": {},
   "source": [
    "An exeption is also raised if we pass an invalid value to the constructor:"
   ]
  },
  {
   "cell_type": "code",
   "execution_count": 8,
   "metadata": {},
   "outputs": [
    {
     "ename": "ValueError",
     "evalue": "Ohms must be > 0; got -5",
     "output_type": "error",
     "traceback": [
      "\u001b[0;31m---------------------------------------------------------------------------\u001b[0m",
      "\u001b[0;31mValueError\u001b[0m                                Traceback (most recent call last)",
      "Cell \u001b[0;32mIn[8], line 1\u001b[0m\n\u001b[0;32m----> 1\u001b[0m BoundedResistance(\u001b[39m-\u001b[39;49m\u001b[39m5\u001b[39;49m)\n",
      "Cell \u001b[0;32mIn[7], line 3\u001b[0m, in \u001b[0;36mBoundedResistance.__init__\u001b[0;34m(self, ohms)\u001b[0m\n\u001b[1;32m      2\u001b[0m \u001b[39mdef\u001b[39;00m \u001b[39m__init__\u001b[39m(\u001b[39mself\u001b[39m, ohms):\n\u001b[0;32m----> 3\u001b[0m     \u001b[39msuper\u001b[39;49m()\u001b[39m.\u001b[39;49m\u001b[39m__init__\u001b[39;49m(ohms)\n",
      "Cell \u001b[0;32mIn[3], line 3\u001b[0m, in \u001b[0;36mResistor.__init__\u001b[0;34m(self, ohms)\u001b[0m\n\u001b[1;32m      2\u001b[0m \u001b[39mdef\u001b[39;00m \u001b[39m__init__\u001b[39m(\u001b[39mself\u001b[39m, ohms):\n\u001b[0;32m----> 3\u001b[0m     \u001b[39mself\u001b[39;49m\u001b[39m.\u001b[39;49mohms \u001b[39m=\u001b[39m ohms\n\u001b[1;32m      4\u001b[0m     \u001b[39mself\u001b[39m\u001b[39m.\u001b[39mvoltage \u001b[39m=\u001b[39m \u001b[39m0\u001b[39m\n\u001b[1;32m      5\u001b[0m     \u001b[39mself\u001b[39m\u001b[39m.\u001b[39mcurrect \u001b[39m=\u001b[39m \u001b[39m0\u001b[39m\n",
      "Cell \u001b[0;32mIn[7], line 12\u001b[0m, in \u001b[0;36mBoundedResistance.ohms\u001b[0;34m(self, ohms)\u001b[0m\n\u001b[1;32m      9\u001b[0m \u001b[39m@ohms\u001b[39m\u001b[39m.\u001b[39msetter\n\u001b[1;32m     10\u001b[0m \u001b[39mdef\u001b[39;00m \u001b[39mohms\u001b[39m(\u001b[39mself\u001b[39m, ohms):\n\u001b[1;32m     11\u001b[0m     \u001b[39mif\u001b[39;00m ohms \u001b[39m<\u001b[39m\u001b[39m=\u001b[39m \u001b[39m0\u001b[39m:\n\u001b[0;32m---> 12\u001b[0m         \u001b[39mraise\u001b[39;00m \u001b[39mValueError\u001b[39;00m(\u001b[39mf\u001b[39m\u001b[39m\"\u001b[39m\u001b[39mOhms must be > 0; got \u001b[39m\u001b[39m{\u001b[39;00mohms\u001b[39m}\u001b[39;00m\u001b[39m\"\u001b[39m)\n\u001b[1;32m     13\u001b[0m     \u001b[39mself\u001b[39m\u001b[39m.\u001b[39m_ohms \u001b[39m=\u001b[39m ohms\n",
      "\u001b[0;31mValueError\u001b[0m: Ohms must be > 0; got -5"
     ]
    }
   ],
   "source": [
    "BoundedResistance(-5)"
   ]
  },
  {
   "attachments": {},
   "cell_type": "markdown",
   "metadata": {},
   "source": [
    "This is because `BoundedResistance.__init__` calls the constructor in `Resistor` which assigns `self.ohm` to -5 which in turn calls the `@ohms.setter` method.  \n",
    "When using the `@property` methods to implement setters and getters, don't set other attributes in getter property methods. This will cause unexpected behaviour."
   ]
  },
  {
   "cell_type": "code",
   "execution_count": 9,
   "metadata": {},
   "outputs": [],
   "source": [
    "class MysteriousResistor(Resistor):\n",
    "    @property\n",
    "    def ohms(self):\n",
    "        self.voltage = self._ohms * self.current\n",
    "        return self._ohms\n",
    "    \n",
    "    \n",
    "    @ohms.setter\n",
    "    def ohms(self, ohms):\n",
    "        self._ohms = ohms"
   ]
  },
  {
   "attachments": {},
   "cell_type": "markdown",
   "metadata": {},
   "source": [
    "Setting other attributes in getter property methods leads to extremely bizarre behaviour (see below). The best approach is to only modify related object states in `@property.setter` methods and avoid:\n",
    "1. Importing modules dynamically\n",
    "2. Running slow helper functions\n",
    "3. Doing I/O\n",
    "4. Making expensive database queries "
   ]
  },
  {
   "cell_type": "code",
   "execution_count": 10,
   "metadata": {},
   "outputs": [
    {
     "name": "stdout",
     "output_type": "stream",
     "text": [
      "Before: 0.000\n",
      "After:  0.10\n"
     ]
    }
   ],
   "source": [
    "r7 = MysteriousResistor(10)\n",
    "r7.current = 0.01\n",
    "print(f\"Before: {r7.voltage:.3f}\")\n",
    "r7.ohms\n",
    "print(f\"After: {r7.voltage: .2f}\")"
   ]
  },
  {
   "attachments": {},
   "cell_type": "markdown",
   "metadata": {},
   "source": [
    "### Item 45: Consider `@property` Instead of Refactoring Attributes\n",
    "1. Use `@property` to give existing instance attributes new functionality.\n",
    "2. Make incremental progress toward better data models by using `@property`\n",
    "3. Consider refactoring a class and all call sites when you find yourself using `@property` too heavily."
   ]
  },
  {
   "attachments": {},
   "cell_type": "markdown",
   "metadata": {},
   "source": [
    "### Item 46: Use Descriptors for Reusable `@property` Methods\n",
    "A big problem with the `@property` built-in is reuse:\n",
    "1. The methods it decorates cannot be reused for multiple attributes of the same class.\n",
    "2. They also can't be reused by unrelated classes.\n",
    "For example, the class below validates that the grade is a percentage:"
   ]
  },
  {
   "cell_type": "code",
   "execution_count": 12,
   "metadata": {},
   "outputs": [],
   "source": [
    "class Homework:\n",
    "    def __init__(self):\n",
    "        self._grade = 0\n",
    "    \n",
    "    @property\n",
    "    def grade(self):\n",
    "        return self._grade\n",
    "    \n",
    "    @grade.setter\n",
    "    def grade(self, value):\n",
    "        if not 0 <= value <= 100:\n",
    "            raise ValueError(\n",
    "                \"Grade must be between 0 and 100\"\n",
    "            )\n",
    "        self._grade = value\n",
    "\n",
    "g = Homework()\n",
    "g.grade = 95"
   ]
  },
  {
   "attachments": {},
   "cell_type": "markdown",
   "metadata": {},
   "source": [
    "If we want to give students grades based on exams, we need to repeat a lot of boilerplate to check whether each exam's grade is a percentage. Also, if another class wants to reuse the percentage validation, it needs to be rewritten.  \n",
    "The better way for reusability is `descriptor`. The `descriptor protocol` defines how attribute access is interpreted by the language. A descriptor class can provide `__get__` and `__set__` methods that let you reuses the grade validation behaviour without boilerplate."
   ]
  },
  {
   "cell_type": "code",
   "execution_count": 14,
   "metadata": {},
   "outputs": [],
   "source": [
    "class Grade:\n",
    "    def __init__(self):\n",
    "        self._value = 0\n",
    "    \n",
    "    def __get__(self, instance, instance_type):\n",
    "        return self._value\n",
    "    \n",
    "    def __set__(self, instance, value):\n",
    "        if not (0 <= value <= 100):\n",
    "            raise ValueError(\n",
    "                \"Grade must be between 0 and 100\"\n",
    "            )\n",
    "        self._value = value\n",
    "    \n",
    "class Exam:\n",
    "    math_grade = Grade()\n",
    "    writing_grade = Grade()\n",
    "    science_grade = Grade()"
   ]
  },
  {
   "attachments": {},
   "cell_type": "markdown",
   "metadata": {},
   "source": [
    "When a property is assigned:"
   ]
  },
  {
   "cell_type": "code",
   "execution_count": 15,
   "metadata": {},
   "outputs": [],
   "source": [
    "exam = Exam()\n",
    "exam.writing_grade = 40"
   ]
  },
  {
   "attachments": {},
   "cell_type": "markdown",
   "metadata": {},
   "source": [
    "it is interpreted as:"
   ]
  },
  {
   "attachments": {},
   "cell_type": "markdown",
   "metadata": {},
   "source": [
    "exam.__dict__[\"writing_grade\"].__set(exam, 40)\n",
    "\n",
    "When the property is retrieved:   \n",
    "exam.writing_grade\n",
    "\n",
    "exam.__dict__[\"writing_grade].__get__(exam, Exam)"
   ]
  },
  {
   "attachments": {},
   "cell_type": "markdown",
   "metadata": {},
   "source": [
    "However, there is a problem with this descriptor implementation is that the `Grade` instance is contructed once and shared across all `Exam` instances. To solve this, the `Grade` class should keep track of its value for each unique `Exam` instance. This can be done by saving the per-instance state in a dictionary. Also, to not have memory leak, i.e. make instances set their reference to zero when no longer in use, we can use `weakref.WeakKeyDictionary`."
   ]
  },
  {
   "cell_type": "code",
   "execution_count": 1,
   "metadata": {},
   "outputs": [
    {
     "name": "stdout",
     "output_type": "stream",
     "text": [
      "First exam grade is 82\n",
      "Second exam grade is 75\n"
     ]
    }
   ],
   "source": [
    "from weakref import WeakKeyDictionary\n",
    "\n",
    "class Grade:\n",
    "    def __init__(self):\n",
    "       self._values = WeakKeyDictionary()\n",
    "    \n",
    "    def __get__(self, instance, instance_type):\n",
    "        if instance is None:\n",
    "            return self\n",
    "        return self._values.get(instance, 0)\n",
    "    \n",
    "    def __set__(self, instance, value):\n",
    "        if not (0 <= value <= 100):\n",
    "            raise ValueError(\n",
    "                \"Grade must be between 0 and 100\"\n",
    "            )\n",
    "        self._values[instance] = value\n",
    "class Exam:\n",
    "    math_grade = Grade()\n",
    "    writing_grade = Grade()\n",
    "    science_grade = Grade()\n",
    "\n",
    "\n",
    "first_exam = Exam()\n",
    "first_exam.writing_grade = 82\n",
    "second_exam = Exam()\n",
    "second_exam.writing_grade = 75\n",
    "print(f\"First exam grade is {first_exam.writing_grade}\")\n",
    "print(f\"Second exam grade is {second_exam.writing_grade}\")"
   ]
  },
  {
   "cell_type": "markdown",
   "metadata": {},
   "source": [
    "### Item 47: Use `__getattr__, __getattribute__`, and `__setattr__` for Lazy Attributes\n",
    "Python's object hooks make it easy to write generic code for gluing systems together. For example, say that we want to represent records in a database as Python objects. The database has a schema set already. The code that uses objexts corresponding to those records must also know what the database looks like. However, in Python, the code that connects Python objects to the database doesn't need to explicitly specify the schema of the records; it can be generic. How? Certainly not with plain instance attributes, `@property` methods, and descriptors can't do this because they all need to be defined in advance.   \n",
    "This dynamic behaviour is possible with the `__getattr__` special method. If a class defines `__getattr__`, that method is called every time an attribute can't be found in an object's instance dictionary."
   ]
  },
  {
   "cell_type": "code",
   "execution_count": 1,
   "metadata": {},
   "outputs": [
    {
     "name": "stdout",
     "output_type": "stream",
     "text": [
      "Before:  {'exists': 5}\n",
      "foo:  Value for foo\n",
      "After:  {'exists': 5, 'foo': 'Value for foo'}\n"
     ]
    }
   ],
   "source": [
    "class LazyRecord:\n",
    "    def __init__(self):\n",
    "        self.exists = 5\n",
    "    \n",
    "    def __getattr__(self, name):\n",
    "        value = f\"Value for {name}\"\n",
    "        setattr(self, name, value)\n",
    "        return value\n",
    "\n",
    "data = LazyRecord()\n",
    "print(\"Before: \", data.__dict__)\n",
    "print(\"foo: \", data.foo)\n",
    "print(\"After: \", data.__dict__)"
   ]
  },
  {
   "cell_type": "markdown",
   "metadata": {},
   "source": [
    "If we want transactions in this database system. The next time the user accesses a property, we want to know whether the corresponding record in the database is still valid and whether the transaction is still open. The `__getattr__` won't allow for this reliably because it will use the object's instance dictionary as the fast path for existing attributes. Another hook called `__getattributes__` can do this. This special method is called every time an attribute is accessed on an object, even in the cases where it does existin the attribute dictionary. This enables checking for global transaction state on every property access. It's important to note that such an operation can incur significant overhead and negatively impact performance, but sometimes it's worth it. "
   ]
  },
  {
   "cell_type": "code",
   "execution_count": 2,
   "metadata": {},
   "outputs": [
    {
     "name": "stdout",
     "output_type": "stream",
     "text": [
      "* Called __getattributes__('exists')\n",
      "* Found 'exists', returning 5\n",
      "exists:  5\n",
      "* Called __getattributes__('foo')\n",
      "* Setting 'foo' to 'Value for foo'\n",
      "First foo:  Value for foo\n",
      "* Called __getattributes__('foo')\n",
      "* Found 'foo', returning 'Value for foo'\n",
      "Second foo:  Value for foo\n"
     ]
    }
   ],
   "source": [
    "class ValidatingRecord:\n",
    "    def __init__(self):\n",
    "        self.exists = 5\n",
    "    \n",
    "    def __getattribute__(self, name):\n",
    "        print(f\"* Called __getattributes__({name!r})\")\n",
    "        try:\n",
    "            value = super().__getattribute__(name)\n",
    "            print(f\"* Found {name!r}, returning {value!r}\")\n",
    "            return value\n",
    "        except AttributeError:\n",
    "            value = f\"Value for {name}\"\n",
    "            print(f\"* Setting {name!r} to {value!r}\")\n",
    "            setattr(self, name, value)\n",
    "            return value\n",
    "        \n",
    "data = ValidatingRecord()\n",
    "print(\"exists: \", data.exists)\n",
    "print(\"First foo: \", data.foo)\n",
    "print(\"Second foo: \", data.foo)"
   ]
  },
  {
   "cell_type": "code",
   "execution_count": null,
   "metadata": {},
   "outputs": [],
   "source": []
  }
 ],
 "metadata": {
  "kernelspec": {
   "display_name": "Python 3",
   "language": "python",
   "name": "python3"
  },
  "language_info": {
   "codemirror_mode": {
    "name": "ipython",
    "version": 3
   },
   "file_extension": ".py",
   "mimetype": "text/x-python",
   "name": "python",
   "nbconvert_exporter": "python",
   "pygments_lexer": "ipython3",
   "version": "3.10.4"
  },
  "orig_nbformat": 4
 },
 "nbformat": 4,
 "nbformat_minor": 2
}
