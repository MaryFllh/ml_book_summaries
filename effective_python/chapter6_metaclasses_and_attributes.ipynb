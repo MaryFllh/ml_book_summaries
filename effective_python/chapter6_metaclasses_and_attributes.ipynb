{
 "cells": [
  {
   "attachments": {},
   "cell_type": "markdown",
   "metadata": {},
   "source": [
    "## Metaclasses and Attributes\n",
    "Metaclasses let you intercept Python's `class` statement and provide special behaviour each time a class is defined. However, dynamic attributes enable you to override objects and cause unexpected side effects.\n",
    "\n",
    "### Use Plain Attributes Instead of Setter and Getter Methods"
   ]
  }
 ],
 "metadata": {
  "language_info": {
   "name": "python"
  },
  "orig_nbformat": 4
 },
 "nbformat": 4,
 "nbformat_minor": 2
}
