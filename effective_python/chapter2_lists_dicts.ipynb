{
 "cells": [
  {
   "attachments": {},
   "cell_type": "markdown",
   "metadata": {},
   "source": [
    "## Lists and Dictionaries\n",
    "### Item 13: Prefer Catch-All Unpacking Over Slicing\n",
    "Basic unpacking has the limitation that you need to know the length of the sequences you're unpacking in advance. "
   ]
  },
  {
   "cell_type": "code",
   "execution_count": 1,
   "metadata": {},
   "outputs": [
    {
     "name": "stdout",
     "output_type": "stream",
     "text": [
      "20 19 [15, 9, 8, 7, 6, 4, 1, 0]\n"
     ]
    }
   ],
   "source": [
    "car_ages = [0, 9, 4, 8, 7, 20, 19, 1, 6, 15]\n",
    "car_ages_descending = sorted(car_ages, reverse=True)\n",
    "oldest, second_oldest = car_ages_descending[0], car_ages_descending[1]\n",
    "others = car_ages_descending[2:]\n",
    "print(oldest, second_oldest, others)"
   ]
  },
  {
   "attachments": {},
   "cell_type": "markdown",
   "metadata": {},
   "source": [
    "This is visuallly noisy as seen above and more prone to off-by-one errors. For example, you might change boundaries on one line but forget to update the others. Using catch all through the *started expression* is a better solution."
   ]
  },
  {
   "cell_type": "code",
   "execution_count": 2,
   "metadata": {},
   "outputs": [
    {
     "name": "stdout",
     "output_type": "stream",
     "text": [
      "20 19 [15, 9, 8, 7, 6, 4, 1, 0]\n"
     ]
    }
   ],
   "source": [
    "oldest, second_oldest, *others = car_ages_descending\n",
    "print(oldest, second_oldest, others)"
   ]
  },
  {
   "attachments": {},
   "cell_type": "markdown",
   "metadata": {},
   "source": [
    "Stared expression can appear in any position, so it is useful when you need to extract one slice:"
   ]
  },
  {
   "cell_type": "code",
   "execution_count": 3,
   "metadata": {},
   "outputs": [
    {
     "name": "stdout",
     "output_type": "stream",
     "text": [
      "0 1 [20, 19, 15, 9, 8, 7, 6, 4]\n"
     ]
    }
   ],
   "source": [
    "oldest, *others, youngest = car_ages_descending\n",
    "\n",
    "*others, second_youngest, youngest = car_ages_descending\n",
    "print(youngest, second_youngest, others)"
   ]
  },
  {
   "attachments": {},
   "cell_type": "markdown",
   "metadata": {},
   "source": [
    "### Item 14: Sort by Complex Criteria Using the `key` Parameter\n",
    "When there are multiple sorting criteria, you can use tuples which are comparible by default and have a natural ordering. Natural ordering means that they implement all of the special such as `__lt__`, that are required by the sort method."
   ]
  },
  {
   "cell_type": "code",
   "execution_count": 5,
   "metadata": {},
   "outputs": [
    {
     "name": "stdout",
     "output_type": "stream",
     "text": [
      "[Tool('drill', 4), Tool('sander', 4), Tool('circular saw', 5), Tool('jackhammer', 40)]\n"
     ]
    }
   ],
   "source": [
    "class Tool:\n",
    "    def __init__(self, name, weight):\n",
    "       self.name = name\n",
    "       self.weight = weight\n",
    "\n",
    "    def __repr__(self):\n",
    "        return f\"Tool({self.name!r}, {self.weight!r})\"\n",
    "    \n",
    "power_tools = [\n",
    "    Tool(\"drill\", 4),\n",
    "    Tool(\"circular saw\", 5),\n",
    "    Tool(\"jackhammer\", 40), \n",
    "    Tool(\"sander\", 4)\n",
    "]\n",
    "\n",
    "# define a key function that returns a tuple containing the two attributes I want to sort on in order of priority\n",
    "power_tools.sort(key=lambda x : (x.weight, x.name))\n",
    "print(power_tools)"
   ]
  },
  {
   "cell_type": "code",
   "execution_count": null,
   "metadata": {},
   "outputs": [],
   "source": []
  },
  {
   "attachments": {},
   "cell_type": "markdown",
   "metadata": {},
   "source": [
    "A limitation of using the key function to return a tuple is that the direction of sorting is the same for all criteria, i.e. all ascending or descending. However, for numerical data types you can use the unary minus operator in the key function. This will reverse the order of the item it is used on but keep the direction of the rest intact. "
   ]
  },
  {
   "cell_type": "code",
   "execution_count": 6,
   "metadata": {},
   "outputs": [
    {
     "name": "stdout",
     "output_type": "stream",
     "text": [
      "[Tool('jackhammer', 40), Tool('circular saw', 5), Tool('drill', 4), Tool('sander', 4)]\n"
     ]
    }
   ],
   "source": [
    "power_tools.sort(key=lambda x: (-x.weight, x.name))\n",
    "print(power_tools)"
   ]
  },
  {
   "attachments": {},
   "cell_type": "markdown",
   "metadata": {},
   "source": [
    "The unary operator doesn't work for all types though. Instead, you can apply multiple sorts on the same list and since Python provides a *stable* sorting algorithm the returned order from previous steps is preserved. You just need to make sure that you execute the sorts in the reverse sequence you want the final list to contain. For example, if you want the sort order to be by weight descending and then by name ascending, you have to sort by name first and then weight."
   ]
  },
  {
   "cell_type": "code",
   "execution_count": 8,
   "metadata": {},
   "outputs": [
    {
     "name": "stdout",
     "output_type": "stream",
     "text": [
      "[Tool('jackhammer', 40), Tool('circular saw', 5), Tool('drill', 4), Tool('sander', 4)]\n"
     ]
    }
   ],
   "source": [
    "power_tools.sort(key=lambda x: x.name)\n",
    "power_tools.sort(key=lambda x: x.weight, reverse=True)\n",
    "\n",
    "print(power_tools)"
   ]
  },
  {
   "attachments": {},
   "cell_type": "markdown",
   "metadata": {},
   "source": [
    "### Item 15: Be Cautious Whn Relying on `dict` Insertion Ordering\n",
    "There are three ways to be careful about dictionary-like classes: \n",
    "1. Write code that doesn't rely on insertion ordering,\n",
    "2. Explicitly check for the dict type at runtime\n",
    "3. The best way is to require dict values using type annotations and static analysis. "
   ]
  }
 ],
 "metadata": {
  "kernelspec": {
   "display_name": "Python 3",
   "language": "python",
   "name": "python3"
  },
  "language_info": {
   "codemirror_mode": {
    "name": "ipython",
    "version": 3
   },
   "file_extension": ".py",
   "mimetype": "text/x-python",
   "name": "python",
   "nbconvert_exporter": "python",
   "pygments_lexer": "ipython3",
   "version": "3.10.4"
  },
  "orig_nbformat": 4
 },
 "nbformat": 4,
 "nbformat_minor": 2
}
