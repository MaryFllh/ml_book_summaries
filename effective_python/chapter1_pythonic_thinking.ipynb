{
 "cells": [
  {
   "attachments": {},
   "cell_type": "markdown",
   "metadata": {},
   "source": [
    "### PEP8 on Whitespace\n",
    "- Use spaces instead of tabs for indentations.\n",
    "\n",
    "    Aside from consistency and the importance of not mixing tabs with spaces in the same codebase, the lean towards spaces is because tabs can be interpreted differently in different editors and therefore the code would look differently. However, I think that this is not necessarily a bad thing. If different developers have different preferences on how far to the right each level of indentation should look like, they can easily work on the same project by using tabs and configuring the number of spaces each tab creates according to their preference. The main takeaway is to not mix the two, because if for example for spaces was used in one file for indentation and then in another tabs were used, depending on the configuration of the file editor, the two files can be displayed differently. \n",
    "- Use four spaces for each level of syntactically significant indenting.\n",
    "- Lines should be 79 characters in length or less.\n",
    "- Continuations of long expresstions onto the next line should be indented by four extra spaces from their normal indentation level.\n",
    "- In a file, functions and classes should be separated by two new lines.\n",
    "- In a class, methods should be separated by one new line.\n",
    "- In a dictionary, put no space between the key and colon, and put a single space between the colon and the value if it's on the same line.\n",
    "- Put one space before and after the `=` operator in a variable assignment. But not when it's used for a keyword argument or indicate the default value on an unannotated parameter.\n",
    "- For type annotations, put no space between the variable name and the colon, and use a space before the type information.\n"
   ]
  },
  {
   "attachments": {},
   "cell_type": "markdown",
   "metadata": {},
   "source": [
    "## Naming\n",
    "- Functions, variables and attributes should be in `lowercase_underscore` format.\n",
    "- Class names should be in `CapitalisedWord` format.\n",
    "- Module-level constants should be in `ALL_CAPS` format.\n",
    "- Protected instance attributes should be in `_leading_underscore` format\n",
    "\n",
    "    There is no enforcement for protected attributes to not be accessed from outside the class. It is mainly a signal that the protected attribute is not part of the public API and although it can be accessed. It is bad practice to do so.\n",
    "- Private instance attributes should be in `__double_leading_underscore`.\n",
    "\n",
    "    With private instances, you can ensure that they are not accessed or modified directly. You can access them using \n",
    "\n",
    "## Expressions and Statements\n",
    "- Use inline negation (`if a is not b`) instead of negation of positive expressions (`if not a is b`)\n",
    "- Don't check for empty containers of sequences (e.g. `[], ''`) by comparing the length to zero, (`if len(foo) == 0`). Instead, use `if not foo` and assume that empry values will implicitly evaluate to `False`.\n",
    "- Same for non-empty containers or sequences, use `if foo`. \n",
    "- Avoid single line if statements, `for` and `while` loops, and `except` compound statements. Split across multiple lines.\n",
    "- Prefer surrounding multiline expressions with parentheses over using th `\\` line continuoution character.\n",
    "\n",
    "## Imports\n",
    "- Always use absolute names for modules when importing them, not names relative to the current module's own path. For example to import the `foo` module from the `bar` package, use `from bar import foo` not just `import foo`.\n",
    "- If you must use relative imports, use explicit syntax; `from . import foo`.\n",
    "- Group imports together and order them by first standard packages, third party and then your own modules. Within each group the imports should be in alphabetical order."
   ]
  }
 ],
 "metadata": {
  "language_info": {
   "name": "python"
  },
  "orig_nbformat": 4
 },
 "nbformat": 4,
 "nbformat_minor": 2
}
