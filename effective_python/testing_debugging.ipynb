{
 "cells": [
  {
   "attachments": {},
   "cell_type": "markdown",
   "metadata": {},
   "source": [
    "## Testing a Debugging\n",
    "Python doesn't have compile time static type checking. There's nothing in the interpreter that will ensure that your program will work correctly when you run it. Although a fundamentally dynamic langugage, it has the option for type annotations that can be uses in static analysis to detect many kinds of bugs. \n",
    "\n",
    "Test are like an insurance policy on your code. Good tests give you confidence that your code is correct. If you refactor your code, tests verify the *behaviour* not implementation."
   ]
  },
  {
   "attachments": {},
   "cell_type": "markdown",
   "metadata": {},
   "source": [
    "### Item 75: Use `repr` Strings for Debugging Output\n",
    "Print and logs are very useful for debugging code. This issue with printing variables is that the type is not clear. For example:"
   ]
  },
  {
   "cell_type": "code",
   "execution_count": 2,
   "metadata": {},
   "outputs": [
    {
     "name": "stdout",
     "output_type": "stream",
     "text": [
      "5\n",
      "5\n"
     ]
    }
   ],
   "source": [
    "print(5)\n",
    "print('5')"
   ]
  },
  {
   "attachments": {},
   "cell_type": "markdown",
   "metadata": {},
   "source": [
    "In debugging, these differences matter. Instead of plain print statements, call `repr` on the value before printing. If using the % operator, use '%r' or !r with the f-string."
   ]
  },
  {
   "cell_type": "code",
   "execution_count": 5,
   "metadata": {},
   "outputs": [
    {
     "name": "stdout",
     "output_type": "stream",
     "text": [
      "5\n",
      "'5'\n",
      "5\n",
      "5 != '5'\n"
     ]
    }
   ],
   "source": [
    "print(repr(5))\n",
    "print(repr('5'))\n",
    "print('%s' %5)\n",
    "\n",
    "\n",
    "int_value = 5\n",
    "str_value = '5'\n",
    "print(f'{int_value!r} != {str_value!r}')"
   ]
  },
  {
   "attachments": {},
   "cell_type": "markdown",
   "metadata": {},
   "source": [
    "#### `repr` for Object Subclasses\n",
    "The default implementation of `repr` isn't really helpful. There are two solutions to this:\n",
    "1. If you have access to the class, define your own `__repr__` special method that returns a string containing the string that recreates the object.\n",
    "2. If you don't have control over the class definition, access the object's instance dictionary which is stored in the __dict__ attribute.  "
   ]
  },
  {
   "cell_type": "code",
   "execution_count": 7,
   "metadata": {},
   "outputs": [
    {
     "name": "stdout",
     "output_type": "stream",
     "text": [
      "GoodClass(5, '5')\n",
      "<__main__.OpaqueClass object at 0x110b69a20>\n",
      "{'x': 5, 'y': '5'}\n"
     ]
    }
   ],
   "source": [
    "class GoodClass:\n",
    "    def __init__(self, x, y) -> None:\n",
    "       self.x = x\n",
    "       self.y = y\n",
    "\n",
    "    def __repr__(self) -> str:\n",
    "       return f'GoodClass({self.x!r}, {self.y!r})' \n",
    "\n",
    "class OpaqueClass:\n",
    "    def __init__(self, x, y):\n",
    "       self.x = x\n",
    "       self.y = y\n",
    "    \n",
    "obj1 = GoodClass(5, '5')\n",
    "print(obj1)\n",
    "\n",
    "obj2 = OpaqueClass(5, '5')\n",
    "print(obj2)\n",
    "print(obj2.__dict__)"
   ]
  },
  {
   "attachments": {},
   "cell_type": "markdown",
   "metadata": {},
   "source": [
    "### Item 76: Verify Related Behaviours in TestCase Subclasses"
   ]
  },
  {
   "cell_type": "code",
   "execution_count": null,
   "metadata": {},
   "outputs": [],
   "source": []
  },
  {
   "attachments": {},
   "cell_type": "markdown",
   "metadata": {},
   "source": [
    "### Item 77: Isolate Tests from Each Other with `SetUp`, `tearDown`, `setUpModule`, and `tearDownModule`"
   ]
  },
  {
   "cell_type": "markdown",
   "metadata": {},
   "source": []
  },
  {
   "attachments": {},
   "cell_type": "markdown",
   "metadata": {},
   "source": [
    "### Item 78: Use Mocks to Test Code with Complex Dependencies"
   ]
  },
  {
   "attachments": {},
   "cell_type": "markdown",
   "metadata": {},
   "source": [
    "The behaviour you want to test may have dependencies on other functions. For instance, it might need to call the database to pull a record or uses a helper function. Making a database connection, setting up a schema, populating it with data is difficult and slow. Also, in the case of helper functions and other function calls, those functionalities are not part of the test. \n",
    "It is much easier and more robust to mock all these dependencies. A mock lets you provide expected responses for dependent functions given a set of expected calls.\n",
    "Python has a built in `unittest.mock` module for creating mocks. \n",
    "Assume the function `get_animals()` below which queries the database and gets all the animals of a certain `species`. We can mock calls to this function and have those calls return a list of animals:"
   ]
  },
  {
   "cell_type": "code",
   "execution_count": 10,
   "metadata": {},
   "outputs": [],
   "source": [
    "def get_animals(database, species):\n",
    "    # Query the database and return a list of (name, last_mealtime)\n",
    "    pass\n",
    "\n",
    "\n",
    "from datetime import datetime\n",
    "from unittest.mock import Mock\n",
    "\n",
    "mock = Mock(spec=get_animals)\n",
    "expected_result = [\n",
    "        (\"Spot\", datetime(2019, 6, 5, 11, 15)),\n",
    "        (\"Fluffy\", datetime(2019, 6, 5, 12, 30)),\n",
    "        (\"Jojo\", datetime(2019, 6, 5, 12, 45))\n",
    "]\n",
    "mock.return_value = expected_result"
   ]
  },
  {
   "attachments": {},
   "cell_type": "markdown",
   "metadata": {},
   "source": [
    "The `Mock` class creates a mock function, The `spec` argument indicates that the mock function should act like the given object which is the `get_animals` function and error if it's used in the wrong way. The `return_value` attribute is the value to return when the mock function is called. So we are returning a list of animals whenever `get_animals()` is called without making a database connection! \n",
    "Here's an example of calling the wrong attribure on the mock function. Because we pass `get_animals` as the `spec`, only the attribures of this function can be used on the mock object."
   ]
  },
  {
   "cell_type": "code",
   "execution_count": 11,
   "metadata": {},
   "outputs": [
    {
     "ename": "AttributeError",
     "evalue": "Mock object has no attribute 'blah'",
     "output_type": "error",
     "traceback": [
      "\u001b[0;31m---------------------------------------------------------------------------\u001b[0m",
      "\u001b[0;31mAttributeError\u001b[0m                            Traceback (most recent call last)",
      "Cell \u001b[0;32mIn[11], line 1\u001b[0m\n\u001b[0;32m----> 1\u001b[0m mock\u001b[39m.\u001b[39;49mblah\n",
      "File \u001b[0;32m~/.pyenv/versions/3.10.4/lib/python3.10/unittest/mock.py:634\u001b[0m, in \u001b[0;36mNonCallableMock.__getattr__\u001b[0;34m(self, name)\u001b[0m\n\u001b[1;32m    632\u001b[0m \u001b[39melif\u001b[39;00m \u001b[39mself\u001b[39m\u001b[39m.\u001b[39m_mock_methods \u001b[39mis\u001b[39;00m \u001b[39mnot\u001b[39;00m \u001b[39mNone\u001b[39;00m:\n\u001b[1;32m    633\u001b[0m     \u001b[39mif\u001b[39;00m name \u001b[39mnot\u001b[39;00m \u001b[39min\u001b[39;00m \u001b[39mself\u001b[39m\u001b[39m.\u001b[39m_mock_methods \u001b[39mor\u001b[39;00m name \u001b[39min\u001b[39;00m _all_magics:\n\u001b[0;32m--> 634\u001b[0m         \u001b[39mraise\u001b[39;00m \u001b[39mAttributeError\u001b[39;00m(\u001b[39m\"\u001b[39m\u001b[39mMock object has no attribute \u001b[39m\u001b[39m%r\u001b[39;00m\u001b[39m\"\u001b[39m \u001b[39m%\u001b[39m name)\n\u001b[1;32m    635\u001b[0m \u001b[39melif\u001b[39;00m _is_magic(name):\n\u001b[1;32m    636\u001b[0m     \u001b[39mraise\u001b[39;00m \u001b[39mAttributeError\u001b[39;00m(name)\n",
      "\u001b[0;31mAttributeError\u001b[0m: Mock object has no attribute 'blah'"
     ]
    }
   ],
   "source": [
    "mock.blah"
   ]
  },
  {
   "attachments": {},
   "cell_type": "markdown",
   "metadata": {},
   "source": [
    "We can call the mock function as if we are calling `get_animal()`. For the database argument we can pass a unique object value because the mock function does not actually use it, we just want to make sure that the database argument is passed through any dependent functions that need it. "
   ]
  },
  {
   "cell_type": "code",
   "execution_count": 12,
   "metadata": {},
   "outputs": [],
   "source": [
    "database = object()\n",
    "result = mock(database, 'Meerkat')\n",
    "assert result == expected_result"
   ]
  },
  {
   "attachments": {},
   "cell_type": "markdown",
   "metadata": {},
   "source": [
    "This verifies that mock responds as expected. If we also want to verify that the mocked `get_animal` function was called and was called with the correct parameters, we can use the `assert_called_once_with` method. "
   ]
  },
  {
   "cell_type": "code",
   "execution_count": 13,
   "metadata": {},
   "outputs": [
    {
     "ename": "AssertionError",
     "evalue": "expected call not found.\nExpected: mock(<object object at 0x1172da660>, 'Mammal')\nActual: mock(<object object at 0x1172da660>, 'Meerkat')",
     "output_type": "error",
     "traceback": [
      "\u001b[0;31m---------------------------------------------------------------------------\u001b[0m",
      "\u001b[0;31mAssertionError\u001b[0m                            Traceback (most recent call last)",
      "Cell \u001b[0;32mIn[13], line 2\u001b[0m\n\u001b[1;32m      1\u001b[0m mock\u001b[39m.\u001b[39massert_called_once_with(database, \u001b[39m'\u001b[39m\u001b[39mMeerkat\u001b[39m\u001b[39m'\u001b[39m)\n\u001b[0;32m----> 2\u001b[0m mock\u001b[39m.\u001b[39;49massert_called_once_with(database, \u001b[39m'\u001b[39;49m\u001b[39mMammal\u001b[39;49m\u001b[39m'\u001b[39;49m)\n",
      "File \u001b[0;32m~/.pyenv/versions/3.10.4/lib/python3.10/unittest/mock.py:931\u001b[0m, in \u001b[0;36mNonCallableMock.assert_called_once_with\u001b[0;34m(self, *args, **kwargs)\u001b[0m\n\u001b[1;32m    926\u001b[0m     msg \u001b[39m=\u001b[39m (\u001b[39m\"\u001b[39m\u001b[39mExpected \u001b[39m\u001b[39m'\u001b[39m\u001b[39m%s\u001b[39;00m\u001b[39m'\u001b[39m\u001b[39m to be called once. Called \u001b[39m\u001b[39m%s\u001b[39;00m\u001b[39m times.\u001b[39m\u001b[39m%s\u001b[39;00m\u001b[39m\"\u001b[39m\n\u001b[1;32m    927\u001b[0m            \u001b[39m%\u001b[39m (\u001b[39mself\u001b[39m\u001b[39m.\u001b[39m_mock_name \u001b[39mor\u001b[39;00m \u001b[39m'\u001b[39m\u001b[39mmock\u001b[39m\u001b[39m'\u001b[39m,\n\u001b[1;32m    928\u001b[0m               \u001b[39mself\u001b[39m\u001b[39m.\u001b[39mcall_count,\n\u001b[1;32m    929\u001b[0m               \u001b[39mself\u001b[39m\u001b[39m.\u001b[39m_calls_repr()))\n\u001b[1;32m    930\u001b[0m     \u001b[39mraise\u001b[39;00m \u001b[39mAssertionError\u001b[39;00m(msg)\n\u001b[0;32m--> 931\u001b[0m \u001b[39mreturn\u001b[39;00m \u001b[39mself\u001b[39;49m\u001b[39m.\u001b[39;49massert_called_with(\u001b[39m*\u001b[39;49margs, \u001b[39m*\u001b[39;49m\u001b[39m*\u001b[39;49mkwargs)\n",
      "File \u001b[0;32m~/.pyenv/versions/3.10.4/lib/python3.10/unittest/mock.py:919\u001b[0m, in \u001b[0;36mNonCallableMock.assert_called_with\u001b[0;34m(self, *args, **kwargs)\u001b[0m\n\u001b[1;32m    917\u001b[0m \u001b[39mif\u001b[39;00m actual \u001b[39m!=\u001b[39m expected:\n\u001b[1;32m    918\u001b[0m     cause \u001b[39m=\u001b[39m expected \u001b[39mif\u001b[39;00m \u001b[39misinstance\u001b[39m(expected, \u001b[39mException\u001b[39;00m) \u001b[39melse\u001b[39;00m \u001b[39mNone\u001b[39;00m\n\u001b[0;32m--> 919\u001b[0m     \u001b[39mraise\u001b[39;00m \u001b[39mAssertionError\u001b[39;00m(_error_message()) \u001b[39mfrom\u001b[39;00m \u001b[39mcause\u001b[39;00m\n",
      "\u001b[0;31mAssertionError\u001b[0m: expected call not found.\nExpected: mock(<object object at 0x1172da660>, 'Mammal')\nActual: mock(<object object at 0x1172da660>, 'Meerkat')"
     ]
    }
   ],
   "source": [
    "mock.assert_called_once_with(database, 'Meerkat')\n",
    "mock.assert_called_once_with(database, 'Mammal')"
   ]
  },
  {
   "attachments": {},
   "cell_type": "markdown",
   "metadata": {},
   "source": [
    "If we don't care about the exact parameters used to make the call, e.g. which database paramater, we can indicate that using the `unittest.mock.ANY` constant. In the snippet below, we call the mock three different times with three differnt database parameters. We then verify that the *most recent call* of the many calls to this function had the second argument \"Meerkat\"."
   ]
  },
  {
   "cell_type": "code",
   "execution_count": 21,
   "metadata": {},
   "outputs": [],
   "source": [
    "from unittest.mock import ANY\n",
    "\n",
    "mock('db1', 'Rabbit')\n",
    "mock('db2', 'Bison')\n",
    "mock('db3', 'Meerkat')\n",
    "\n",
    "mock.assert_called_with(ANY, 'Meerkat')"
   ]
  },
  {
   "attachments": {},
   "cell_type": "markdown",
   "metadata": {},
   "source": [
    "To mock exceptions being raised you can use `side_effects`:"
   ]
  },
  {
   "cell_type": "code",
   "execution_count": 22,
   "metadata": {},
   "outputs": [
    {
     "ename": "CustomError",
     "evalue": "There is an exception!!",
     "output_type": "error",
     "traceback": [
      "\u001b[0;31m---------------------------------------------------------------------------\u001b[0m",
      "\u001b[0;31mCustomError\u001b[0m                               Traceback (most recent call last)",
      "Cell \u001b[0;32mIn[22], line 6\u001b[0m\n\u001b[1;32m      4\u001b[0m mock \u001b[39m=\u001b[39m Mock(spec\u001b[39m=\u001b[39mget_animals)\n\u001b[1;32m      5\u001b[0m mock\u001b[39m.\u001b[39mside_effect \u001b[39m=\u001b[39m CustomError(\u001b[39m'\u001b[39m\u001b[39mThere is an exception!!\u001b[39m\u001b[39m'\u001b[39m)\n\u001b[0;32m----> 6\u001b[0m mock(\u001b[39m'\u001b[39;49m\u001b[39mdb\u001b[39;49m\u001b[39m'\u001b[39;49m, \u001b[39m'\u001b[39;49m\u001b[39mMeerkat\u001b[39;49m\u001b[39m'\u001b[39;49m)\n",
      "File \u001b[0;32m~/.pyenv/versions/3.10.4/lib/python3.10/unittest/mock.py:1104\u001b[0m, in \u001b[0;36mCallableMixin.__call__\u001b[0;34m(self, *args, **kwargs)\u001b[0m\n\u001b[1;32m   1102\u001b[0m \u001b[39mself\u001b[39m\u001b[39m.\u001b[39m_mock_check_sig(\u001b[39m*\u001b[39margs, \u001b[39m*\u001b[39m\u001b[39m*\u001b[39mkwargs)\n\u001b[1;32m   1103\u001b[0m \u001b[39mself\u001b[39m\u001b[39m.\u001b[39m_increment_mock_call(\u001b[39m*\u001b[39margs, \u001b[39m*\u001b[39m\u001b[39m*\u001b[39mkwargs)\n\u001b[0;32m-> 1104\u001b[0m \u001b[39mreturn\u001b[39;00m \u001b[39mself\u001b[39;49m\u001b[39m.\u001b[39;49m_mock_call(\u001b[39m*\u001b[39;49margs, \u001b[39m*\u001b[39;49m\u001b[39m*\u001b[39;49mkwargs)\n",
      "File \u001b[0;32m~/.pyenv/versions/3.10.4/lib/python3.10/unittest/mock.py:1108\u001b[0m, in \u001b[0;36mCallableMixin._mock_call\u001b[0;34m(self, *args, **kwargs)\u001b[0m\n\u001b[1;32m   1107\u001b[0m \u001b[39mdef\u001b[39;00m \u001b[39m_mock_call\u001b[39m(\u001b[39mself\u001b[39m, \u001b[39m/\u001b[39m, \u001b[39m*\u001b[39margs, \u001b[39m*\u001b[39m\u001b[39m*\u001b[39mkwargs):\n\u001b[0;32m-> 1108\u001b[0m     \u001b[39mreturn\u001b[39;00m \u001b[39mself\u001b[39;49m\u001b[39m.\u001b[39;49m_execute_mock_call(\u001b[39m*\u001b[39;49margs, \u001b[39m*\u001b[39;49m\u001b[39m*\u001b[39;49mkwargs)\n",
      "File \u001b[0;32m~/.pyenv/versions/3.10.4/lib/python3.10/unittest/mock.py:1163\u001b[0m, in \u001b[0;36mCallableMixin._execute_mock_call\u001b[0;34m(self, *args, **kwargs)\u001b[0m\n\u001b[1;32m   1161\u001b[0m \u001b[39mif\u001b[39;00m effect \u001b[39mis\u001b[39;00m \u001b[39mnot\u001b[39;00m \u001b[39mNone\u001b[39;00m:\n\u001b[1;32m   1162\u001b[0m     \u001b[39mif\u001b[39;00m _is_exception(effect):\n\u001b[0;32m-> 1163\u001b[0m         \u001b[39mraise\u001b[39;00m effect\n\u001b[1;32m   1164\u001b[0m     \u001b[39melif\u001b[39;00m \u001b[39mnot\u001b[39;00m _callable(effect):\n\u001b[1;32m   1165\u001b[0m         result \u001b[39m=\u001b[39m \u001b[39mnext\u001b[39m(effect)\n",
      "\u001b[0;31mCustomError\u001b[0m: There is an exception!!"
     ]
    }
   ],
   "source": [
    "class CustomError(Exception):\n",
    "    pass\n",
    "\n",
    "mock = Mock(spec=get_animals)\n",
    "mock.side_effect = CustomError('There is an exception!!')\n",
    "mock('db', 'Meerkat')\n"
   ]
  },
  {
   "attachments": {},
   "cell_type": "markdown",
   "metadata": {},
   "source": [
    "Now let's see how `Mock` can be used in unit tests. Below is a function that does rounds of feeding of zoo animals, given a set of database-interacting functions:"
   ]
  },
  {
   "cell_type": "code",
   "execution_count": 23,
   "metadata": {},
   "outputs": [],
   "source": [
    "from datetime import datetime, timedelta\n",
    "from unittest.mock import call, DEFAULT, patch, Mock\n",
    "\n",
    "class DatabaseConnection:\n",
    "    pass\n",
    "\n",
    "def get_animals(database, species):\n",
    "    # Query the database and return a list of (name, last_mealtime)\n",
    "    pass\n",
    "\n",
    "def get_food_period(database, species):\n",
    "    # Query the database and return the time delta\n",
    "    pass\n",
    "\n",
    "def feed_animal(database, name, when):\n",
    "    # Write to the database\n",
    "    pass\n",
    "\n",
    "def do_rounds(database, species, *, utcnow=datetime.utcnow):\n",
    "    now = utcnow()\n",
    "    feeding_time_delta = get_food_period(database, species)\n",
    "    animals = get_animals(database, species)\n",
    "    fed = 0\n",
    "\n",
    "    for name, last_mealtime in animals:\n",
    "        if (now - last_mealtime) > feeding_time_delta:\n",
    "            feed_animal(database, name, now)\n",
    "            fed += 1\n",
    "\n",
    "    return fed\n"
   ]
  },
  {
   "attachments": {},
   "cell_type": "markdown",
   "metadata": {},
   "source": [
    "The goal is to verify that when `do_rounds` is called, the correct animal get fed, the correct time of when they were fed is recorded and the number of fed animals is what we expect. For this we need to do a few things:\n",
    "1. Mock `datetime.utcnow` so the test have stable time that isn't affected by daylight saving time and other similar changes\n",
    "2. Mock `get_food_period` and `get_animals` to return values that would have come from the database\n",
    "3. Mock `feed_animal` to accept data that would have been written back to the database\n",
    "\n",
    "Now the question is, how do you make `do_rounds` accept the mocked functions instead of real functions? One way to do this is inject everything is keyword-only arguments, and pass the mocks as the inputs to overide the results, but this is very verbose and requires changing every function you want to test because you have to make the inputs be keyword-only. A better solution is using `unittest.mock.patch` for injecting mocks. What patch does is that it temporarily reassignes the module or class attributes, e.g. the database accessing functions like `get_animals`. Below we override `get_animals` to be a mock using patch:"
   ]
  },
  {
   "cell_type": "code",
   "execution_count": 24,
   "metadata": {},
   "outputs": [
    {
     "name": "stdout",
     "output_type": "stream",
     "text": [
      "Outside patch:  <function get_animals at 0x117589ab0>\n",
      "Inside patch:  <MagicMock name='get_animals' id='4686805696'>\n",
      "Outside again:  <function get_animals at 0x117589ab0>\n"
     ]
    }
   ],
   "source": [
    "from unittest.mock import patch\n",
    "\n",
    "print('Outside patch: ', get_animals)\n",
    "\n",
    "with patch('__main__.get_animals'):\n",
    "    print('Inside patch: ', get_animals)\n",
    "\n",
    "print('Outside again: ', get_animals)"
   ]
  },
  {
   "attachments": {},
   "cell_type": "markdown",
   "metadata": {},
   "source": [
    "`patch` works for many modules, claases and attributes. It can be used in `with` statements, as a function decorator, or in `setUp` and `tearDown` methods of `TestCase` classes.  However, it doesn't work with all calsses such as built-in extensions:"
   ]
  },
  {
   "cell_type": "code",
   "execution_count": 26,
   "metadata": {},
   "outputs": [
    {
     "ename": "TypeError",
     "evalue": "cannot set 'utcnow' attribute of immutable type 'datetime.datetime'",
     "output_type": "error",
     "traceback": [
      "\u001b[0;31m---------------------------------------------------------------------------\u001b[0m",
      "\u001b[0;31mTypeError\u001b[0m                                 Traceback (most recent call last)",
      "File \u001b[0;32m~/.pyenv/versions/3.10.4/lib/python3.10/unittest/mock.py:1546\u001b[0m, in \u001b[0;36m_patch.__enter__\u001b[0;34m(self)\u001b[0m\n\u001b[1;32m   1545\u001b[0m \u001b[39mtry\u001b[39;00m:\n\u001b[0;32m-> 1546\u001b[0m     \u001b[39msetattr\u001b[39;49m(\u001b[39mself\u001b[39;49m\u001b[39m.\u001b[39;49mtarget, \u001b[39mself\u001b[39;49m\u001b[39m.\u001b[39;49mattribute, new_attr)\n\u001b[1;32m   1547\u001b[0m     \u001b[39mif\u001b[39;00m \u001b[39mself\u001b[39m\u001b[39m.\u001b[39mattribute_name \u001b[39mis\u001b[39;00m \u001b[39mnot\u001b[39;00m \u001b[39mNone\u001b[39;00m:\n",
      "\u001b[0;31mTypeError\u001b[0m: cannot set 'utcnow' attribute of immutable type 'datetime.datetime'",
      "\nDuring handling of the above exception, another exception occurred:\n",
      "\u001b[0;31mTypeError\u001b[0m                                 Traceback (most recent call last)",
      "Cell \u001b[0;32mIn[26], line 3\u001b[0m\n\u001b[1;32m      1\u001b[0m expected_time \u001b[39m=\u001b[39m datetime(\u001b[39m2019\u001b[39m, \u001b[39m6\u001b[39m, \u001b[39m5\u001b[39m, \u001b[39m15\u001b[39m, \u001b[39m45\u001b[39m)\n\u001b[0;32m----> 3\u001b[0m \u001b[39mwith\u001b[39;00m patch(\u001b[39m'\u001b[39m\u001b[39mdatetime.datetime.utcnow\u001b[39m\u001b[39m'\u001b[39m):\n\u001b[1;32m      4\u001b[0m     datetime\u001b[39m.\u001b[39mutcnow\u001b[39m.\u001b[39mreturn_value \u001b[39m=\u001b[39m expected_time\n",
      "File \u001b[0;32m~/.pyenv/versions/3.10.4/lib/python3.10/unittest/mock.py:1559\u001b[0m, in \u001b[0;36m_patch.__enter__\u001b[0;34m(self)\u001b[0m\n\u001b[1;32m   1557\u001b[0m     \u001b[39mreturn\u001b[39;00m new\n\u001b[1;32m   1558\u001b[0m \u001b[39mexcept\u001b[39;00m:\n\u001b[0;32m-> 1559\u001b[0m     \u001b[39mif\u001b[39;00m \u001b[39mnot\u001b[39;00m \u001b[39mself\u001b[39;49m\u001b[39m.\u001b[39;49m\u001b[39m__exit__\u001b[39;49m(\u001b[39m*\u001b[39;49msys\u001b[39m.\u001b[39;49mexc_info()):\n\u001b[1;32m   1560\u001b[0m         \u001b[39mraise\u001b[39;00m\n",
      "File \u001b[0;32m~/.pyenv/versions/3.10.4/lib/python3.10/unittest/mock.py:1565\u001b[0m, in \u001b[0;36m_patch.__exit__\u001b[0;34m(self, *exc_info)\u001b[0m\n\u001b[1;32m   1563\u001b[0m \u001b[39m\u001b[39m\u001b[39m\"\"\"Undo the patch.\"\"\"\u001b[39;00m\n\u001b[1;32m   1564\u001b[0m \u001b[39mif\u001b[39;00m \u001b[39mself\u001b[39m\u001b[39m.\u001b[39mis_local \u001b[39mand\u001b[39;00m \u001b[39mself\u001b[39m\u001b[39m.\u001b[39mtemp_original \u001b[39mis\u001b[39;00m \u001b[39mnot\u001b[39;00m DEFAULT:\n\u001b[0;32m-> 1565\u001b[0m     \u001b[39msetattr\u001b[39;49m(\u001b[39mself\u001b[39;49m\u001b[39m.\u001b[39;49mtarget, \u001b[39mself\u001b[39;49m\u001b[39m.\u001b[39;49mattribute, \u001b[39mself\u001b[39;49m\u001b[39m.\u001b[39;49mtemp_original)\n\u001b[1;32m   1566\u001b[0m \u001b[39melse\u001b[39;00m:\n\u001b[1;32m   1567\u001b[0m     \u001b[39mdelattr\u001b[39m(\u001b[39mself\u001b[39m\u001b[39m.\u001b[39mtarget, \u001b[39mself\u001b[39m\u001b[39m.\u001b[39mattribute)\n",
      "\u001b[0;31mTypeError\u001b[0m: cannot set 'utcnow' attribute of immutable type 'datetime.datetime'"
     ]
    }
   ],
   "source": [
    "expected_time = datetime(2019, 6, 5, 15, 45)\n",
    "\n",
    "with patch('datetime.datetime.utcnow'):\n",
    "    datetime.utcnow.return_value = expected_time"
   ]
  },
  {
   "attachments": {},
   "cell_type": "markdown",
   "metadata": {},
   "source": [
    "There are two solutions to this:\n",
    "1. Define a helper function to fetch time that can be patched\n",
    "2. Use a keyword-only argument for the `datetime.utcnow` mock and use a patch for the rest as seen below\n",
    "\n",
    "We use patch.multiple to create many mocks and set their expectations. The keyword arguments to `patch.multiple` correspond to names in the `__main__` module that we want to override during the test. The `DEFAULT` value indicates that we want a standard `Mock` instance to be created for each name. `autospec=True` makes all the generated mocks to adhere to the specifications of the objects they simulate. \n",
    "In the mock context, we see if each of the database accessible functions, `get_animals` and `get_food_period` are called once with the correct parameters and verify that `feed_animal` gets called twice (because of the mocked `last_mealtime` in `get_animal`'s return value) and that the calls are made with the expected inputs in any order (using the `any_order` argument).\n",
    "\n",
    "But can this code be refactored to be more testable? See Item 79."
   ]
  },
  {
   "cell_type": "code",
   "execution_count": null,
   "metadata": {},
   "outputs": [],
   "source": [
    "with patch.multiple(\"__main__\",\n",
    "                    autospec=True,\n",
    "                    get_animals=DEFAULT,\n",
    "                    feed_animal=DEFAULT,\n",
    "                    get_food_period=DEFAULT,\n",
    "                ):\n",
    "    now_func = Mock(spec=datetime.utcnow)\n",
    "    now_func.return_value = datetime(2019, 6, 5, 15, 45)\n",
    "    \n",
    "    get_animals.return_value = [\n",
    "        (\"Spot\", datetime(2019, 6, 5, 11, 15)),\n",
    "        (\"Fluffy\", datetime(2019, 6, 5, 12, 30)),\n",
    "        (\"Jojo\", datetime(2019, 6, 5, 12, 45))\n",
    "    ]\n",
    "    get_food_period.return_value = timedelta(hours=3)\n",
    "    \n",
    "    database = object()\n",
    "    result = do_rounds(\n",
    "        database,\n",
    "        \"Meerkat\",\n",
    "        utcnow=now_func\n",
    "    )\n",
    "    assert result == 2\n",
    "    get_food_period.assert_called_once_with(database, \"Meerkat\")\n",
    "    get_animals.assert_called_once_with(database, \"Meerkat\")\n",
    "    feed_animal.assert_has_calls([\n",
    "        call(database, \"Fluffy\", now_func.return_value),\n",
    "        call(database, \"Spot\", now_func.return_value),\n",
    "       \n",
    "    ],\n",
    "    any_order=True)"
   ]
  },
  {
   "attachments": {},
   "cell_type": "markdown",
   "metadata": {},
   "source": [
    "### Item 79: Encapsulate Dependencies to Facilitate Mocking and Testing"
   ]
  },
  {
   "attachments": {},
   "cell_type": "markdown",
   "metadata": {},
   "source": [
    "The code above requires a lot of boilerplate , which could make it more difficult for new readers to understand what the test is trying to verify."
   ]
  }
 ],
 "metadata": {
  "kernelspec": {
   "display_name": "Python 3",
   "language": "python",
   "name": "python3"
  },
  "language_info": {
   "codemirror_mode": {
    "name": "ipython",
    "version": 3
   },
   "file_extension": ".py",
   "mimetype": "text/x-python",
   "name": "python",
   "nbconvert_exporter": "python",
   "pygments_lexer": "ipython3",
   "version": "3.10.4"
  },
  "orig_nbformat": 4
 },
 "nbformat": 4,
 "nbformat_minor": 2
}
