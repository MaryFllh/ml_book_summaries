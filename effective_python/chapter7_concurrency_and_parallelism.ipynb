{
 "cells": [
  {
   "cell_type": "markdown",
   "metadata": {},
   "source": [
    "## Concurrency and Parallelism\n",
    "Concurrency is when the operating system switches what program it executes. It gives the illusion of different programs running at the same time but provides no speedup. Parallelism on the other hand, speeds up the execution time by actually running different programs simultaneously. In Python Threads and coroutines enable concurrent functions while subprocesses and C extensions provide parallelism.\n",
    "### Item 52: Use `subprocess` to Manage Child Porcesses\n",
    "Child process are able to run in parallel, enabling you to use Python to consume all of the CPU cores of a machine and maximise the throughput of programs. Child processes run independantly from their parent process, the Python interpreter. Decoupling the child process from the parent frees up the parent process to run many child processes in parallel.\n",
    "\n",
    "\n",
    "## Things to remember\n",
    "1. Use the `run` convenience function for simple usage, and the `Popen` class for advanced usage like UNIX-style pipelines. \n",
    "2. Use the `timeout` parameter of the `communicate` method to avoid dead-locks and hanging child processes.\n"
   ]
  }
 ],
 "metadata": {
  "language_info": {
   "name": "python"
  },
  "orig_nbformat": 4
 },
 "nbformat": 4,
 "nbformat_minor": 2
}
